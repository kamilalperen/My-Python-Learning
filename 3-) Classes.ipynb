{
 "cells": [
  {
   "cell_type": "code",
   "execution_count": 2,
   "id": "a1b2db73",
   "metadata": {},
   "outputs": [
    {
     "name": "stdout",
     "output_type": "stream",
     "text": [
      "Hello World\n"
     ]
    }
   ],
   "source": [
    "print('Hello World')"
   ]
  },
  {
   "cell_type": "code",
   "execution_count": 1,
   "id": "1d66e61d",
   "metadata": {},
   "outputs": [
    {
     "name": "stdout",
     "output_type": "stream",
     "text": [
      "5 sayisi asaldir.\n"
     ]
    }
   ],
   "source": [
    "#soru 6 asal sayi:\n",
    "\n",
    "deger = 5 \n",
    "x = deger - 1\n",
    "\n",
    "while x>1:\n",
    "    \n",
    "    if deger%x==0:\n",
    "        print('{} sayisi asal degildir.' .format(deger))          \n",
    "        break\n",
    "    else:\n",
    "        x -= 1\n",
    "else:\n",
    "    print('{} sayisi asaldir.' .format(deger))  "
   ]
  },
  {
   "cell_type": "code",
   "execution_count": 3,
   "id": "c7d4a43a",
   "metadata": {},
   "outputs": [
    {
     "data": {
      "text/plain": [
       "2"
      ]
     },
     "execution_count": 3,
     "metadata": {},
     "output_type": "execute_result"
    }
   ],
   "source": [
    "round(1.5) #round float veri tipini en yakin integer a yuvarlar."
   ]
  },
  {
   "cell_type": "code",
   "execution_count": 6,
   "id": "64a4c5c2",
   "metadata": {},
   "outputs": [],
   "source": [
    "def tam_sayiya_cevir():\n",
    "    \n",
    "    girdi = input('Bir ondalik sayi giriniz: ')    #input ile girilen verileri default string olarak kabul edilir. BU yüzden type change yapilmalidir.\n",
    "    print('Yuvarlama islemi sonucu: {}' .format(round(float(girdi)))) "
   ]
  },
  {
   "cell_type": "code",
   "execution_count": 8,
   "id": "4126fb48",
   "metadata": {},
   "outputs": [
    {
     "name": "stdout",
     "output_type": "stream",
     "text": [
      "Bir ondalik sayi giriniz: 2.4\n",
      "Yuvarlama islemi sonucu: 2\n"
     ]
    }
   ],
   "source": [
    "tam_sayiya_cevir()"
   ]
  },
  {
   "cell_type": "code",
   "execution_count": 9,
   "id": "b1f53571",
   "metadata": {},
   "outputs": [],
   "source": [
    "def tam_sayiya_cevir():\n",
    "    girdi = input('Bir ondalik sayi giriniz: ')\n",
    "    \n",
    "    try:\n",
    "        girdi = float(girdi)\n",
    "        print('Yuvarlama islemi sonucu: {}' .format(round(girdi)))\n",
    "    except:\n",
    "        print('{} girdisi ondalik tipe cevrilemiyor' .format(girdi))\n",
    "        \n",
    "#Burda yapilan islem sayesinde kodun error verip durmasi except kismi ile önleniyor ve devamlilik saglanabiliyor."
   ]
  },
  {
   "cell_type": "code",
   "execution_count": 12,
   "id": "5e62ff8c",
   "metadata": {},
   "outputs": [
    {
     "name": "stdout",
     "output_type": "stream",
     "text": [
      "Bir ondalik sayi giriniz: 2\n",
      "Yuvarlama islemi sonucu: 2\n"
     ]
    }
   ],
   "source": [
    "tam_sayiya_cevir()"
   ]
  },
  {
   "cell_type": "code",
   "execution_count": 15,
   "id": "d2b1298b",
   "metadata": {},
   "outputs": [],
   "source": [
    "def tam_sayiya_cevir():\n",
    "    girdi = input('Bir ondalik sayi giriniz: ')\n",
    "    \n",
    "    try:\n",
    "        girdi = float(girdi)\n",
    "    except:\n",
    "        print('{} girdisi ondalik tipe cevrilemiyor' .format(girdi))\n",
    "    else:\n",
    "        print('Yuvarlama islemi sonucu: {}' .format(round(girdi)))\n",
    "        \n",
    "#Bir önceki kod bloogu ile ayni islevi yapan farkli bir gösterim."
   ]
  },
  {
   "cell_type": "code",
   "execution_count": 14,
   "id": "fbcca1d7",
   "metadata": {},
   "outputs": [
    {
     "name": "stdout",
     "output_type": "stream",
     "text": [
      "Bir ondalik sayi giriniz: 2.4\n",
      "Yuvarlama islemi sonucu: 2\n"
     ]
    }
   ],
   "source": [
    "tam_sayiya_cevir()"
   ]
  },
  {
   "cell_type": "code",
   "execution_count": 16,
   "id": "8580364f",
   "metadata": {},
   "outputs": [],
   "source": [
    "def tam_sayiya_cevir():\n",
    "    girdi = input('Bir ondalik sayi giriniz: ')\n",
    "    status = ''\n",
    "    \n",
    "    try:\n",
    "        girdi = float(girdi)\n",
    "        print('Yuvarlama islemi sonucu: {}' .format(round(girdi)))\n",
    "        status = 'Basarili'\n",
    "    except:\n",
    "        print('{} girdisi ondalik tipe cevrilemiyor' .format(girdi))\n",
    "        status = 'Basarisiz'\n",
    "    finally:\n",
    "        print('Tam sayiya cevirme islemi {} olarak tamamlandi!' .format(status))"
   ]
  },
  {
   "cell_type": "code",
   "execution_count": 17,
   "id": "9513a078",
   "metadata": {},
   "outputs": [
    {
     "name": "stdout",
     "output_type": "stream",
     "text": [
      "Bir ondalik sayi giriniz: 2.1\n",
      "Yuvarlama islemi sonucu: 2\n",
      "Tam sayiya cevirme islemi Basarili olarak tamamlandi!\n"
     ]
    }
   ],
   "source": [
    "tam_sayiya_cevir()"
   ]
  },
  {
   "cell_type": "code",
   "execution_count": 18,
   "id": "57b4f8ad",
   "metadata": {},
   "outputs": [],
   "source": [
    "def tam_sayiya_cevir_dongu():\n",
    "    while True:\n",
    "        girdi = input('Bir ondalik sayi giriniz: ')\n",
    "    \n",
    "        try:\n",
    "            girdi = float(girdi)\n",
    "            print('Yuvarlama islemi sonucu: {}' .format(round(girdi)))\n",
    "            break\n",
    "        except:\n",
    "            print('{} girdisi ondalik tipe cevrilemiyor' .format(girdi))\n",
    "            pass"
   ]
  },
  {
   "cell_type": "code",
   "execution_count": 20,
   "id": "37aa325e",
   "metadata": {},
   "outputs": [
    {
     "name": "stdout",
     "output_type": "stream",
     "text": [
      "Bir ondalik sayi giriniz: 8.5\n",
      "Yuvarlama islemi sonucu: 8\n"
     ]
    }
   ],
   "source": [
    "tam_sayiya_cevir_dongu()"
   ]
  },
  {
   "cell_type": "code",
   "execution_count": 23,
   "id": "cc24b7e1",
   "metadata": {},
   "outputs": [
    {
     "name": "stdout",
     "output_type": "stream",
     "text": [
      "Girilen verilerle islem yapilamiyor\n"
     ]
    }
   ],
   "source": [
    "try:\n",
    "    5 + 'a'\n",
    "except TypeError:      #Except kisminda yazilan komut ile olabildigince dar ve anlamlanicak kadar genis komutlar ile kodun genel olarak patlamasinin önüne gecilir.\n",
    "    print('Girilen verilerle islem yapilamiyor')\n",
    "    \n",
    "#Except den sonra bir sey yazilmadan da devam edilebilir ama bu istenmeyen bir durumdur. Ileride kodun patlama riski olusur."
   ]
  },
  {
   "cell_type": "code",
   "execution_count": 25,
   "id": "66f722d7",
   "metadata": {},
   "outputs": [
    {
     "name": "stdout",
     "output_type": "stream",
     "text": [
      "Listenin hedeflenen elemani bulunamadi!\n"
     ]
    }
   ],
   "source": [
    "liste = []\n",
    "\n",
    "try:\n",
    "    liste[-1]\n",
    "    print('Listenin hedeflenen hücresine ulasildi')\n",
    "except IndexError:\n",
    "    print('Listenin hedeflenen elemani bulunamadi!')\n",
    "except:\n",
    "    print('Liste de eleman yok')\n",
    "    \n",
    "#Genel Exception ifadesinin calismasina gerek yok. Hata zaten IndexError'dur."
   ]
  },
  {
   "cell_type": "code",
   "execution_count": 30,
   "id": "bdaf6880",
   "metadata": {},
   "outputs": [
    {
     "name": "stdout",
     "output_type": "stream",
     "text": [
      "Listenin hedeflenen hücresine ulasildi\n"
     ]
    }
   ],
   "source": [
    "vatandas = {\n",
    "    'Adi' : 'Alperen',\n",
    "    'Yasi' : 21\n",
    "}\n",
    "\n",
    "try:\n",
    "    vatandas['Adi']\n",
    "    print('Listenin hedeflenen hücresine ulasildi')\n",
    "except IndexError:\n",
    "    print('Listenin hedeflenen elemani bulunamadi!')\n",
    "except KeyError:\n",
    "    print('verilen anahtar degeri mevcut degil!')\n",
    "except:\n",
    "    print('Liste de eleman yok')"
   ]
  },
  {
   "cell_type": "code",
   "execution_count": 31,
   "id": "2b3e31ae",
   "metadata": {},
   "outputs": [
    {
     "name": "stdout",
     "output_type": "stream",
     "text": [
      "verilen anahtar degeri mevcut degil!\n"
     ]
    }
   ],
   "source": [
    "vatandas = {\n",
    "    'Adi' : 'Alperen',\n",
    "    'Yasi' : 21\n",
    "}\n",
    "\n",
    "try:\n",
    "    vatandas['Tc_no']\n",
    "    print('Listenin hedeflenen hücresine ulasildi')\n",
    "except IndexError:\n",
    "    print('Listenin hedeflenen elemani bulunamadi!')\n",
    "except KeyError:\n",
    "    print('verilen anahtar degeri mevcut degil!')\n",
    "except:\n",
    "    print('Liste de eleman yok')"
   ]
  },
  {
   "cell_type": "markdown",
   "id": "bdbdfa5a",
   "metadata": {},
   "source": [
    "# Class ve oop yapisi:"
   ]
  },
  {
   "cell_type": "code",
   "execution_count": 36,
   "id": "c5273502",
   "metadata": {},
   "outputs": [],
   "source": [
    "# class <class ismi>():   ##Class isimleri genelin aksine büyük harfle baslar(zorunlu degildir)\n",
    "\n",
    "    #class <attr>         ##Class attribute, olusturulanin aksine genel degerleri icerir.\n",
    "    \n",
    "    #def __init__(self, attributes):       ##init, yani intantiation örneklendirmenin kisaltilmasidir.\n",
    "        # self.<instance attr> = attr      ## instance attribute'lar olusturlan örnege özgüdür\n",
    "        # .....\n",
    "        \n",
    "    #def <method>(self, <params>):         ##methodlar class'a özgü fonksiyonlardir\n",
    "        #...\n",
    "        #return ..."
   ]
  },
  {
   "cell_type": "code",
   "execution_count": 32,
   "id": "fc274517",
   "metadata": {},
   "outputs": [],
   "source": [
    "class Ucus():\n",
    "    havayolu = \"THY\""
   ]
  },
  {
   "cell_type": "code",
   "execution_count": 33,
   "id": "b6f3492a",
   "metadata": {},
   "outputs": [],
   "source": [
    "ucus1 = Ucus()"
   ]
  },
  {
   "cell_type": "code",
   "execution_count": 35,
   "id": "111bff62",
   "metadata": {},
   "outputs": [
    {
     "data": {
      "text/plain": [
       "'THY'"
      ]
     },
     "execution_count": 35,
     "metadata": {},
     "output_type": "execute_result"
    }
   ],
   "source": [
    "ucus1.havayolu"
   ]
  },
  {
   "cell_type": "code",
   "execution_count": 37,
   "id": "dcd37231",
   "metadata": {},
   "outputs": [],
   "source": [
    "class Ucus():\n",
    "    havayolu_sirketi = \"THY\""
   ]
  },
  {
   "cell_type": "code",
   "execution_count": 38,
   "id": "d4725ab3",
   "metadata": {},
   "outputs": [],
   "source": [
    "ucus1 = Ucus()"
   ]
  },
  {
   "cell_type": "code",
   "execution_count": 41,
   "id": "8ff3438e",
   "metadata": {},
   "outputs": [
    {
     "data": {
      "text/plain": [
       "'THY'"
      ]
     },
     "execution_count": 41,
     "metadata": {},
     "output_type": "execute_result"
    }
   ],
   "source": [
    "ucus1.havayolu_sirketi"
   ]
  },
  {
   "cell_type": "code",
   "execution_count": 45,
   "id": "230e7b91",
   "metadata": {},
   "outputs": [],
   "source": [
    "class Ucus():\n",
    "    havayolu_sirketi = \"THY\"\n",
    "    \n",
    "    def __init__(self, kod, kalkis, varis, sure, kapasite, yolcu):\n",
    "        self.kod = kod\n",
    "        self.kalkis = kalkis\n",
    "        self.varis = varis\n",
    "        self.sure = sure\n",
    "        self.kapasite = kapasite\n",
    "        self.yolcu = yolcu\n",
    "        "
   ]
  },
  {
   "cell_type": "code",
   "execution_count": 43,
   "id": "e497d972",
   "metadata": {},
   "outputs": [
    {
     "ename": "TypeError",
     "evalue": "Ucus.__init__() missing 6 required positional arguments: 'kod', 'kalkis', 'varis', 'sure', 'kapasite', and 'yolcu'",
     "output_type": "error",
     "traceback": [
      "\u001b[0;31m---------------------------------------------------------------------------\u001b[0m",
      "\u001b[0;31mTypeError\u001b[0m                                 Traceback (most recent call last)",
      "Cell \u001b[0;32mIn[43], line 1\u001b[0m\n\u001b[0;32m----> 1\u001b[0m ucus2 \u001b[38;5;241m=\u001b[39m Ucus()\n",
      "\u001b[0;31mTypeError\u001b[0m: Ucus.__init__() missing 6 required positional arguments: 'kod', 'kalkis', 'varis', 'sure', 'kapasite', and 'yolcu'"
     ]
    }
   ],
   "source": [
    "ucus2 = Ucus()\n",
    "#TypeError: Ucus.__init__() missing 6 required positional arguments: 'kod', 'kalkis', 'varis', 'sure', 'kapasite', and 'yolcu'\n"
   ]
  },
  {
   "cell_type": "code",
   "execution_count": 97,
   "id": "1cf75e5e",
   "metadata": {},
   "outputs": [],
   "source": [
    "ucus2 = Ucus('TH132', 'Istanbul', 'München', 165, 250, 100)"
   ]
  },
  {
   "cell_type": "code",
   "execution_count": 49,
   "id": "5382bfb0",
   "metadata": {},
   "outputs": [
    {
     "data": {
      "text/plain": [
       "165"
      ]
     },
     "execution_count": 49,
     "metadata": {},
     "output_type": "execute_result"
    }
   ],
   "source": [
    "ucus2.sure"
   ]
  },
  {
   "cell_type": "code",
   "execution_count": 51,
   "id": "463b65e8",
   "metadata": {},
   "outputs": [
    {
     "data": {
      "text/plain": [
       "'THY'"
      ]
     },
     "execution_count": 51,
     "metadata": {},
     "output_type": "execute_result"
    }
   ],
   "source": [
    "ucus2.havayolu_sirketi"
   ]
  },
  {
   "cell_type": "code",
   "execution_count": 52,
   "id": "2d632cd4",
   "metadata": {},
   "outputs": [],
   "source": [
    "ucus3 = Ucus('TH252', 'Istanbul', 'München', 165, 250, 200)"
   ]
  },
  {
   "cell_type": "code",
   "execution_count": 53,
   "id": "1e0a6159",
   "metadata": {},
   "outputs": [],
   "source": [
    "#class icerisindeki bir fonksiyona neredeyse her zaman 'self' ifadesi birakilir. \n",
    "#Class yapisinda objenin kendine referans etmesine yarayan bir key word dür."
   ]
  },
  {
   "cell_type": "code",
   "execution_count": 64,
   "id": "cd0b80c6",
   "metadata": {},
   "outputs": [],
   "source": [
    "class Ucus():\n",
    "    havayolu_sirketi = \"THY\"\n",
    "    \n",
    "    def __init__(self, kod, kalkis, varis, sure, kapasite, yolcu):\n",
    "        self.kod = kod\n",
    "        self.kalkis = kalkis\n",
    "        self.varis = varis\n",
    "        self.sure = sure\n",
    "        self.kapasite = kapasite\n",
    "        self.yolcu = yolcu\n",
    "        \n",
    "    def anons_yap(self):\n",
    "        return \"{} sefer numarali {}-{} ucusumuz {} dakika sürecektir.\" .format(\n",
    "        self.kod,\n",
    "        self.kalkis,\n",
    "        self.varis,\n",
    "        self.sure)"
   ]
  },
  {
   "cell_type": "code",
   "execution_count": 67,
   "id": "bcd2dc45",
   "metadata": {},
   "outputs": [],
   "source": [
    "ucus3 = Ucus('TH252', 'Istanbul', 'München', 165, 250, 200)"
   ]
  },
  {
   "cell_type": "code",
   "execution_count": 68,
   "id": "03ca7fb1",
   "metadata": {},
   "outputs": [
    {
     "data": {
      "text/plain": [
       "'TH252 sefer numarali Istanbul-München ucusumuz 165 dakika sürecektir.'"
      ]
     },
     "execution_count": 68,
     "metadata": {},
     "output_type": "execute_result"
    }
   ],
   "source": [
    "ucus3.anons_yap()"
   ]
  },
  {
   "cell_type": "code",
   "execution_count": 89,
   "id": "56d09973",
   "metadata": {},
   "outputs": [],
   "source": [
    "class Ucus():\n",
    "    havayolu_sirketi = \"THY\"\n",
    "    \n",
    "    def __init__(self, kod, kalkis, varis, sure, kapasite, yolcu):\n",
    "        self.kod = kod\n",
    "        self.kalkis = kalkis\n",
    "        self.varis = varis\n",
    "        self.sure = sure\n",
    "        self.kapasite = kapasite\n",
    "        self.yolcu = yolcu\n",
    "        \n",
    "    def anons_yap(self):\n",
    "        return \"{} sefer numarali {}-{} ucusumuz {} dakika sürecektir.\" .format(\n",
    "        self.kod,\n",
    "        self.kalkis,\n",
    "        self.varis,\n",
    "        self.sure)\n",
    "    \n",
    "    def koltuk_sayisi_güncelle(self):\n",
    "        return self.kapasite - self.yolcu\n",
    "    \n",
    "    def bilet_satis(self, bilet_adedi = 1): #default durumda bilet adedi 1 e esitlenir. Istenirse daha fazla alinabilir.\n",
    "        \n",
    "        if self.yolcu + bilet_adedi <= self.kapasite:\n",
    "            \n",
    "            self.yolcu += bilet_adedi\n",
    "            #self.yolcu = self.yolcu + bilet_adedi\n",
    "            self.koltuk_sayisi_güncelle()\n",
    "            print('{} adet bilet satilmistir, kalan koltuk sayisi {}' \n",
    "                  .format(bilet_adedi, self.koltuk_sayisi_güncelle()))\n",
    "            \n",
    "        else:\n",
    "            print('Isleminiz yapilamadi!')"
   ]
  },
  {
   "cell_type": "code",
   "execution_count": 74,
   "id": "fe40b816",
   "metadata": {},
   "outputs": [],
   "source": [
    "ucus3 = Ucus('TH252', 'Istanbul', 'München', 165, 250, 200)"
   ]
  },
  {
   "cell_type": "code",
   "execution_count": 77,
   "id": "bccbb8b2",
   "metadata": {},
   "outputs": [
    {
     "data": {
      "text/plain": [
       "50"
      ]
     },
     "execution_count": 77,
     "metadata": {},
     "output_type": "execute_result"
    }
   ],
   "source": [
    "ucus3.koltuk_sayisi_güncelle()"
   ]
  },
  {
   "cell_type": "code",
   "execution_count": 81,
   "id": "0acfee6a",
   "metadata": {},
   "outputs": [],
   "source": [
    "ucus3 = Ucus('TH252', 'Istanbul', 'München', 165, 250, 200)"
   ]
  },
  {
   "cell_type": "code",
   "execution_count": 82,
   "id": "d3b303ed",
   "metadata": {},
   "outputs": [
    {
     "name": "stdout",
     "output_type": "stream",
     "text": [
      "3 adet bilet satilmistir, kalan koltuk sayisi 47\n"
     ]
    }
   ],
   "source": [
    "ucus3.bilet_satis(3)"
   ]
  },
  {
   "cell_type": "code",
   "execution_count": 86,
   "id": "db81512f",
   "metadata": {},
   "outputs": [
    {
     "name": "stdout",
     "output_type": "stream",
     "text": [
      "5 adet bilet satilmistir, kalan koltuk sayisi 32\n"
     ]
    }
   ],
   "source": [
    "ucus3.bilet_satis(5)  #class yapisinin en büyük avantaji: Yapilan degisiklik üzerine baska bir degisiklik yapar.\n",
    "                      #Önceki yapilan islem kayda gecer. Bilgiyi saklama ve devamliligini saglar."
   ]
  },
  {
   "cell_type": "code",
   "execution_count": 90,
   "id": "0faa4dea",
   "metadata": {},
   "outputs": [
    {
     "name": "stdout",
     "output_type": "stream",
     "text": [
      "3 adet bilet satilmistir, kalan koltuk sayisi -4\n"
     ]
    }
   ],
   "source": [
    "ucus3.bilet_satis(3)"
   ]
  },
  {
   "cell_type": "code",
   "execution_count": 88,
   "id": "54cf32c7",
   "metadata": {},
   "outputs": [
    {
     "name": "stdout",
     "output_type": "stream",
     "text": [
      "30 adet bilet satilmistir, kalan koltuk sayisi -1\n"
     ]
    }
   ],
   "source": [
    "ucus3.bilet_satis(30)"
   ]
  },
  {
   "cell_type": "code",
   "execution_count": 95,
   "id": "46d2cccf",
   "metadata": {},
   "outputs": [],
   "source": [
    "class Ucus():\n",
    "    havayolu_sirketi = \"THY\"\n",
    "    \n",
    "    def __init__(self, kod, kalkis, varis, sure, kapasite, yolcu):\n",
    "        self.kod = kod\n",
    "        self.kalkis = kalkis\n",
    "        self.varis = varis\n",
    "        self.sure = sure\n",
    "        self.kapasite = kapasite\n",
    "        self.yolcu = yolcu\n",
    "        \n",
    "    def anons_yap(self):\n",
    "        return \"{} sefer numarali {}-{} ucusumuz {} dakika sürecektir.\" .format(\n",
    "        self.kod,\n",
    "        self.kalkis,\n",
    "        self.varis,\n",
    "        self.sure)\n",
    "    \n",
    "    def koltuk_sayisi_güncelle(self):\n",
    "        return self.kapasite - self.yolcu\n",
    "    \n",
    "    def bilet_satis(self, bilet_adedi = 1): #default durumda bilet adedi 1 e esitlenir. \n",
    "                                            #Istenirse daha fazla alinabilir.\n",
    "        \n",
    "        if self.yolcu + bilet_adedi <= self.kapasite:\n",
    "            \n",
    "            self.yolcu += bilet_adedi\n",
    "            #self.yolcu = self.yolcu + bilet_adedi\n",
    "            self.koltuk_sayisi_güncelle()\n",
    "            print('{} adet bilet satilmistir, kalan koltuk sayisi {}' \n",
    "                  .format(bilet_adedi, self.koltuk_sayisi_güncelle()))\n",
    "            \n",
    "        else:\n",
    "            print('Isleminiz yapilamadi!')"
   ]
  },
  {
   "cell_type": "code",
   "execution_count": 92,
   "id": "e65237cd",
   "metadata": {},
   "outputs": [],
   "source": [
    "ucus3 = Ucus('TH252', 'Istanbul', 'München', 165, 250, 200)"
   ]
  },
  {
   "cell_type": "code",
   "execution_count": 93,
   "id": "650fde8f",
   "metadata": {},
   "outputs": [
    {
     "name": "stdout",
     "output_type": "stream",
     "text": [
      "5 adet bilet satilmistir, kalan koltuk sayisi 45\n"
     ]
    }
   ],
   "source": [
    "ucus3.bilet_satis(5)"
   ]
  },
  {
   "cell_type": "code",
   "execution_count": 94,
   "id": "71855dc1",
   "metadata": {},
   "outputs": [
    {
     "name": "stdout",
     "output_type": "stream",
     "text": [
      "Isleminiz yapilamadi!\n"
     ]
    }
   ],
   "source": [
    "ucus3.bilet_satis(55)"
   ]
  },
  {
   "cell_type": "code",
   "execution_count": 96,
   "id": "a883418a",
   "metadata": {},
   "outputs": [],
   "source": [
    "class Ucus():\n",
    "    havayolu_sirketi = \"THY\"\n",
    "    \n",
    "    def __init__(self, kod, kalkis, varis, sure, kapasite, yolcu):\n",
    "        self.kod = kod\n",
    "        self.kalkis = kalkis\n",
    "        self.varis = varis\n",
    "        self.sure = sure\n",
    "        self.kapasite = kapasite\n",
    "        self.yolcu = yolcu\n",
    "        \n",
    "    def anons_yap(self):\n",
    "        return \"{} sefer numarali {}-{} ucusumuz {} dakika sürecektir.\" .format(\n",
    "        self.kod,\n",
    "        self.kalkis,\n",
    "        self.varis,\n",
    "        self.sure)\n",
    "    \n",
    "    def koltuk_sayisi_güncelle(self):\n",
    "        return self.kapasite - self.yolcu\n",
    "    \n",
    "    def bilet_satis(self, bilet_adedi = 1): #default durumda bilet adedi 1 e esitlenir. \n",
    "                                            #Istenirse daha fazla alinabilir.\n",
    "        \n",
    "        if self.yolcu + bilet_adedi <= self.kapasite:\n",
    "            \n",
    "            self.yolcu += bilet_adedi\n",
    "            #self.yolcu = self.yolcu + bilet_adedi\n",
    "            self.koltuk_sayisi_güncelle()\n",
    "            print('{} adet bilet satilmistir, kalan koltuk sayisi {}' \n",
    "                  .format(bilet_adedi, self.koltuk_sayisi_güncelle()))\n",
    "            \n",
    "        else:\n",
    "            print('Isleminiz yapilamadi!')\n",
    "            \n",
    "            \n",
    "    def bilet_iptal(self, bilet_adedi = 1):\n",
    "        \n",
    "        if self.yolcu >= bilet_adedi:\n",
    "            self.yolcu -= bilet_adedi\n",
    "            print('{} adet bilet iptal edilmistir, güncel koltuk sayisi {}' .format(\n",
    "                bilet_adedi, \n",
    "                self.koltuk_sayisi_güncelle()))\n",
    "        \n",
    "        else:\n",
    "            print('Islem Maalesef Gerceklestirilemedi!')\n",
    "            \n",
    "            "
   ]
  },
  {
   "cell_type": "code",
   "execution_count": 98,
   "id": "a75730b5",
   "metadata": {},
   "outputs": [],
   "source": [
    "ucus2 = Ucus('TH132', 'Istanbul', 'München', 165, 250, 100)"
   ]
  },
  {
   "cell_type": "code",
   "execution_count": 99,
   "id": "47733324",
   "metadata": {},
   "outputs": [
    {
     "name": "stdout",
     "output_type": "stream",
     "text": [
      "1 adet bilet iptal edilmistir, güncel koltuk sayisi 151\n"
     ]
    }
   ],
   "source": [
    "ucus2.bilet_iptal()"
   ]
  },
  {
   "cell_type": "code",
   "execution_count": 100,
   "id": "56292bfd",
   "metadata": {},
   "outputs": [
    {
     "name": "stdout",
     "output_type": "stream",
     "text": [
      "Islem Maalesef Gerceklestirilemedi!\n"
     ]
    }
   ],
   "source": [
    "ucus2.bilet_iptal(200)"
   ]
  },
  {
   "cell_type": "code",
   "execution_count": 101,
   "id": "50a630ad",
   "metadata": {},
   "outputs": [],
   "source": [
    "ucus3 = Ucus('TH252', 'Istanbul', 'München', 165, 250, 200)"
   ]
  },
  {
   "cell_type": "code",
   "execution_count": 102,
   "id": "743e06df",
   "metadata": {},
   "outputs": [
    {
     "data": {
      "text/plain": [
       "['kod',\n",
       " 'kalkis',\n",
       " 'varis',\n",
       " 'sure',\n",
       " 'kapasite',\n",
       " 'yolcu',\n",
       " '__module__',\n",
       " 'havayolu_sirketi',\n",
       " '__init__',\n",
       " 'anons_yap',\n",
       " 'koltuk_sayisi_güncelle',\n",
       " 'bilet_satis',\n",
       " 'bilet_iptal',\n",
       " '__dict__',\n",
       " '__weakref__',\n",
       " '__doc__',\n",
       " '__new__',\n",
       " '__repr__',\n",
       " '__hash__',\n",
       " '__str__',\n",
       " '__getattribute__',\n",
       " '__setattr__',\n",
       " '__delattr__',\n",
       " '__lt__',\n",
       " '__le__',\n",
       " '__eq__',\n",
       " '__ne__',\n",
       " '__gt__',\n",
       " '__ge__',\n",
       " '__reduce_ex__',\n",
       " '__reduce__',\n",
       " '__getstate__',\n",
       " '__subclasshook__',\n",
       " '__init_subclass__',\n",
       " '__format__',\n",
       " '__sizeof__',\n",
       " '__dir__',\n",
       " '__class__']"
      ]
     },
     "execution_count": 102,
     "metadata": {},
     "output_type": "execute_result"
    }
   ],
   "source": [
    "ucus3.__dir__()"
   ]
  },
  {
   "cell_type": "code",
   "execution_count": 103,
   "id": "4f58903d",
   "metadata": {},
   "outputs": [
    {
     "data": {
      "text/plain": [
       "<__main__.Ucus at 0x105441150>"
      ]
     },
     "execution_count": 103,
     "metadata": {},
     "output_type": "execute_result"
    }
   ],
   "source": [
    "ucus3    #burada komut cagirildiginda geri döndürülen sey: Bellekte tutulan konumdur. "
   ]
  },
  {
   "cell_type": "code",
   "execution_count": 108,
   "id": "73a0e2d6",
   "metadata": {},
   "outputs": [],
   "source": [
    "class Ucus():\n",
    "    havayolu_sirketi = \"THY\"\n",
    "    \n",
    "    def __init__(self, kod, kalkis, varis, sure, kapasite, yolcu):\n",
    "        self.kod = kod\n",
    "        self.kalkis = kalkis\n",
    "        self.varis = varis\n",
    "        self.sure = sure\n",
    "        self.kapasite = kapasite\n",
    "        self.yolcu = yolcu\n",
    "        \n",
    "    def __repr__(self):   #represantation \"ucus3\" gibi komutlar icin cikti alinmasini saglar.\n",
    "        \n",
    "        return \"{} sefer numarali ucus, sistemde olusturulmustur\" .format (self.kod)\n",
    "        \n",
    "    def anons_yap(self):\n",
    "        return \"{} sefer numarali {}-{} ucusumuz {} dakika sürecektir.\" .format(\n",
    "        self.kod,\n",
    "        self.kalkis,\n",
    "        self.varis,\n",
    "        self.sure)\n",
    "    \n",
    "    def koltuk_sayisi_güncelle(self):\n",
    "        return self.kapasite - self.yolcu\n",
    "    \n",
    "    def bilet_satis(self, bilet_adedi = 1): #default durumda bilet adedi 1 e esitlenir. \n",
    "                                            #Istenirse daha fazla alinabilir.\n",
    "        \n",
    "        if self.yolcu + bilet_adedi <= self.kapasite:\n",
    "            \n",
    "            self.yolcu += bilet_adedi\n",
    "            #self.yolcu = self.yolcu + bilet_adedi\n",
    "            self.koltuk_sayisi_güncelle()\n",
    "            print('{} adet bilet satilmistir, kalan koltuk sayisi {}' \n",
    "                  .format(bilet_adedi, self.koltuk_sayisi_güncelle()))\n",
    "            \n",
    "        else:\n",
    "            print('Isleminiz yapilamadi!')\n",
    "            \n",
    "            \n",
    "    def bilet_iptal(self, bilet_adedi = 1):\n",
    "        \n",
    "        if self.yolcu >= bilet_adedi:\n",
    "            self.yolcu -= bilet_adedi\n",
    "            print('{} adet bilet iptal edilmistir, güncel koltuk sayisi {}' .format(\n",
    "                bilet_adedi, \n",
    "                self.koltuk_sayisi_güncelle()))\n",
    "        \n",
    "        else:\n",
    "            print('Islem Maalesef Gerceklestirilemedi!')\n",
    "            \n",
    "            "
   ]
  },
  {
   "cell_type": "code",
   "execution_count": 106,
   "id": "f90c6bd7",
   "metadata": {},
   "outputs": [],
   "source": [
    "ucus3 = Ucus('TH252', 'Istanbul', 'München', 165, 250, 200)"
   ]
  },
  {
   "cell_type": "code",
   "execution_count": 109,
   "id": "5500d763",
   "metadata": {},
   "outputs": [
    {
     "data": {
      "text/plain": [
       "TH252 sefer numarali ucus, sistemde olusturulmustur"
      ]
     },
     "execution_count": 109,
     "metadata": {},
     "output_type": "execute_result"
    }
   ],
   "source": [
    "ucus3"
   ]
  },
  {
   "cell_type": "markdown",
   "id": "ff2b063b",
   "metadata": {},
   "source": [
    "# Inheritance"
   ]
  },
  {
   "cell_type": "code",
   "execution_count": 136,
   "id": "d14720d7",
   "metadata": {},
   "outputs": [],
   "source": [
    "class Seyehat():\n",
    "    \n",
    "    def __init__(self, kalkis, varis):\n",
    "        self.kalkis = kalkis\n",
    "        self.varis = varis\n",
    "        \n",
    "    def anons(self):\n",
    "        return \"{}-{} Seyehatine hosgeldiniz.\" .format(self.kalkis, self.varis)\n",
    "    \n",
    "class Otobus(Seyehat):\n",
    "    \n",
    "    def __init__(self, mola_duraklari):\n",
    "        Seyehat.__init__(self, 'Ist', 'Ank')\n",
    "        self.mola_duraklari = mola_duraklari\n",
    "        "
   ]
  },
  {
   "cell_type": "code",
   "execution_count": 137,
   "id": "534be742",
   "metadata": {},
   "outputs": [
    {
     "data": {
      "text/plain": [
       "'Ant-Bod Seyehatine hosgeldiniz.'"
      ]
     },
     "execution_count": 137,
     "metadata": {},
     "output_type": "execute_result"
    }
   ],
   "source": [
    "seyehat1 = Seyehat('Ant', 'Bod')\n",
    "seyehat1.anons()"
   ]
  },
  {
   "cell_type": "code",
   "execution_count": 138,
   "id": "54ca9f3f",
   "metadata": {},
   "outputs": [],
   "source": [
    "oto1 = Otobus(['Fet', 'Alan'])"
   ]
  },
  {
   "cell_type": "code",
   "execution_count": 139,
   "id": "43a1282c",
   "metadata": {},
   "outputs": [
    {
     "data": {
      "text/plain": [
       "['Fet', 'Alan']"
      ]
     },
     "execution_count": 139,
     "metadata": {},
     "output_type": "execute_result"
    }
   ],
   "source": [
    "oto1.mola_duraklari"
   ]
  },
  {
   "cell_type": "code",
   "execution_count": 140,
   "id": "9bc51e2e",
   "metadata": {},
   "outputs": [
    {
     "data": {
      "text/plain": [
       "'Ist'"
      ]
     },
     "execution_count": 140,
     "metadata": {},
     "output_type": "execute_result"
    }
   ],
   "source": [
    "oto1.kalkis            #Super class a ait kalkis ve varis degerleri de alt class in icinde saklidir."
   ]
  },
  {
   "cell_type": "code",
   "execution_count": 141,
   "id": "d947f9ed",
   "metadata": {},
   "outputs": [],
   "source": [
    "class Seyehat():\n",
    "    \n",
    "    def __init__(self, kalkis, varis):\n",
    "        self.kalkis = kalkis\n",
    "        self.varis = varis\n",
    "        \n",
    "    def anons(self):\n",
    "        return \"{}-{} Seyehatine hosgeldiniz.\" .format(self.kalkis, self.varis)\n",
    "    \n",
    "class Otobus(Seyehat):\n",
    "    \n",
    "    def __init__(self, mola_duraklari, kalkis, varis):\n",
    "        Seyehat.__init__(self, kalkis, varis)\n",
    "        self.mola_duraklari = mola_duraklari\n",
    "        "
   ]
  },
  {
   "cell_type": "code",
   "execution_count": 142,
   "id": "5f4473e6",
   "metadata": {},
   "outputs": [],
   "source": [
    "oto2 = Otobus(['Izmit', 'Ist'], 'Ank', 'Edirne')"
   ]
  },
  {
   "cell_type": "code",
   "execution_count": 143,
   "id": "0d62310e",
   "metadata": {},
   "outputs": [
    {
     "data": {
      "text/plain": [
       "['Izmit', 'Ist']"
      ]
     },
     "execution_count": 143,
     "metadata": {},
     "output_type": "execute_result"
    }
   ],
   "source": [
    "oto2.mola_duraklari"
   ]
  },
  {
   "cell_type": "code",
   "execution_count": 144,
   "id": "69cf2d30",
   "metadata": {},
   "outputs": [
    {
     "data": {
      "text/plain": [
       "'Ank'"
      ]
     },
     "execution_count": 144,
     "metadata": {},
     "output_type": "execute_result"
    }
   ],
   "source": [
    "oto2.kalkis"
   ]
  },
  {
   "cell_type": "code",
   "execution_count": 145,
   "id": "ce127583",
   "metadata": {},
   "outputs": [
    {
     "data": {
      "text/plain": [
       "'Ank-Edirne Seyehatine hosgeldiniz.'"
      ]
     },
     "execution_count": 145,
     "metadata": {},
     "output_type": "execute_result"
    }
   ],
   "source": [
    "oto2.anons()"
   ]
  }
 ],
 "metadata": {
  "kernelspec": {
   "display_name": "Python 3 (ipykernel)",
   "language": "python",
   "name": "python3"
  },
  "language_info": {
   "codemirror_mode": {
    "name": "ipython",
    "version": 3
   },
   "file_extension": ".py",
   "mimetype": "text/x-python",
   "name": "python",
   "nbconvert_exporter": "python",
   "pygments_lexer": "ipython3",
   "version": "3.11.3"
  }
 },
 "nbformat": 4,
 "nbformat_minor": 5
}
