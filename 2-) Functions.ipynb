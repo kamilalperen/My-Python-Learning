{
 "cells": [
  {
   "cell_type": "code",
   "execution_count": 14,
   "id": "04001f42",
   "metadata": {},
   "outputs": [],
   "source": [
    "kullanici1 = {\n",
    "    'ad': 'Ferhat',\n",
    "    'soyad': 'Ibrik',\n",
    "    'uzmanlik': ['Front-End']\n",
    "}\n",
    "kullanici2 = {\n",
    "    'ad': 'Gokce',\n",
    "    'soyad': 'Gün',\n",
    "    'uzmanlik': ['Tasarim']\n",
    "}\n",
    "kullanici3 = {\n",
    "    'ad': 'Mesut',\n",
    "    'soyad': 'Gün',\n",
    "    'uzmanlik': ['Front-End']\n",
    "}"
   ]
  },
  {
   "cell_type": "code",
   "execution_count": 23,
   "id": "087217a9",
   "metadata": {},
   "outputs": [
    {
     "name": "stdout",
     "output_type": "stream",
     "text": [
      "['Front-End']\n"
     ]
    }
   ],
   "source": [
    "print(kullanici1['uzmanlik'])    # --> kullanici1.get('uzmanlik') da ayni islevdedir = kullanici1['uzmanlik']"
   ]
  },
  {
   "cell_type": "code",
   "execution_count": 20,
   "id": "2342d904",
   "metadata": {},
   "outputs": [
    {
     "name": "stdout",
     "output_type": "stream",
     "text": [
      "Ferhat\n",
      "Mesut\n"
     ]
    }
   ],
   "source": [
    "kullanici_listesi = [kullanici1, kullanici2, kullanici3] \n",
    "\n",
    "for kullanici in kullanici_listesi:\n",
    "    if kullanici['uzmanlik'] == ['Front-End']:    ### --> eger 3. sorudan sonra bu soru sorulsaydi mesut kullanicisi cikti olarak cikmayacakti. Buyüzden burada yazilmasi gerek kod::::   if 'Front-End' in kullanici['uzmanlik']:  ya da if 'Front-End' in kullanici.get('uzmanlik)'):    \n",
    "        print(kullanici['ad'])\n",
    "    else:\n",
    "        pass"
   ]
  },
  {
   "cell_type": "code",
   "execution_count": 26,
   "id": "7a3c9325",
   "metadata": {},
   "outputs": [],
   "source": [
    "kullanici3['uzmanlik'] = ['yazilimi ogrendi'] + ['Front-End'] ## --> kullanici3['uzmanlik'].append('yazilimi ogrendi') ayni islevdedir."
   ]
  },
  {
   "cell_type": "code",
   "execution_count": 11,
   "id": "c21905d9",
   "metadata": {},
   "outputs": [
    {
     "data": {
      "text/plain": [
       "dict_values(['Mesut', 'Gün', ['yazilimi ogrendi', 'Front-End']])"
      ]
     },
     "execution_count": 11,
     "metadata": {},
     "output_type": "execute_result"
    }
   ],
   "source": [
    "kullanici3.values()"
   ]
  },
  {
   "cell_type": "code",
   "execution_count": 27,
   "id": "a832300d",
   "metadata": {},
   "outputs": [
    {
     "name": "stdout",
     "output_type": "stream",
     "text": [
      "Mesut\n"
     ]
    }
   ],
   "source": [
    "for kullanici in kullanici_listesi:\n",
    "    if len(kullanici['uzmanlik']) > 1:      # eger length yani 'len' ifadesi basa konulmazsa matematik hesabi (x>1 gibi) string elemanlari icin düzgün calismaz.\n",
    "        print(kullanici['ad'])\n",
    "    else:\n",
    "        pass"
   ]
  },
  {
   "cell_type": "code",
   "execution_count": 28,
   "id": "6d50ad31",
   "metadata": {},
   "outputs": [],
   "source": [
    "kullanici_yaslari_listesi = [22, 34, 32]\n"
   ]
  },
  {
   "cell_type": "code",
   "execution_count": 32,
   "id": "ce0245b0",
   "metadata": {},
   "outputs": [
    {
     "name": "stdout",
     "output_type": "stream",
     "text": [
      "{'ad': 'Ferhat', 'soyad': 'Ibrik', 'uzmanlik': ['Front-End']}\n"
     ]
    }
   ],
   "source": [
    "for kullanici, yas in zip(kullanici_listesi, kullanici_yaslari_listesi):\n",
    "    if yas < 30:\n",
    "        print(kullanici)          ###############"
   ]
  },
  {
   "cell_type": "code",
   "execution_count": 1,
   "id": "79d1024b",
   "metadata": {},
   "outputs": [
    {
     "name": "stdout",
     "output_type": "stream",
     "text": [
      "a\n"
     ]
    }
   ],
   "source": [
    "print('a')"
   ]
  },
  {
   "cell_type": "code",
   "execution_count": 2,
   "id": "e68742c4",
   "metadata": {},
   "outputs": [],
   "source": [
    "def isim_soyisim_ayirma(isim_soyisim):\n",
    "    isim = isim_soyisim.split(\" \")[0]\n",
    "    soyisim = isim_soyisim.split(\" \")[1]\n",
    "    return isim, soyisim"
   ]
  },
  {
   "cell_type": "code",
   "execution_count": 7,
   "id": "2117e47a",
   "metadata": {},
   "outputs": [
    {
     "data": {
      "text/plain": [
       "('Alperen', 'Kabil')"
      ]
     },
     "execution_count": 7,
     "metadata": {},
     "output_type": "execute_result"
    }
   ],
   "source": [
    "isim_soyisim_ayirma('Alperen Kabil')"
   ]
  },
  {
   "cell_type": "code",
   "execution_count": 9,
   "id": "cc08faa0",
   "metadata": {},
   "outputs": [
    {
     "name": "stdout",
     "output_type": "stream",
     "text": [
      "Alperen\n",
      "Kabil\n"
     ]
    }
   ],
   "source": [
    "isim, soyisim = isim_soyisim_ayirma('Alperen Kabil')\n",
    "print(isim)\n",
    "print(soyisim)"
   ]
  },
  {
   "cell_type": "code",
   "execution_count": 2,
   "id": "15245549",
   "metadata": {},
   "outputs": [
    {
     "name": "stdout",
     "output_type": "stream",
     "text": [
      "Bir sayi giriniz: 2\n"
     ]
    },
    {
     "data": {
      "text/plain": [
       "'2'"
      ]
     },
     "execution_count": 2,
     "metadata": {},
     "output_type": "execute_result"
    }
   ],
   "source": [
    "input('Bir sayi giriniz: ')"
   ]
  },
  {
   "cell_type": "code",
   "execution_count": 11,
   "id": "103270ab",
   "metadata": {},
   "outputs": [
    {
     "name": "stdout",
     "output_type": "stream",
     "text": [
      "Bir sayi giriniz: 2\n",
      "2\n"
     ]
    }
   ],
   "source": [
    "print(int(input('Bir sayi giriniz: ')))"
   ]
  },
  {
   "cell_type": "code",
   "execution_count": 12,
   "id": "66082097",
   "metadata": {},
   "outputs": [],
   "source": [
    "def uygulama():\n",
    "    girdi = input(\"Bir sayi girin:\")\n",
    "    islem = input(\"Verinin tek mi cift mi oldugunu sorgula:\")\n",
    "    \n",
    "    if islem=='cift':\n",
    "        if int(girdi)%2==0:\n",
    "            return 'Evet {} sayisi bir cift sayidir'.format(girdi)\n",
    "        else:\n",
    "            return 'Hayir {} sayisi bir cift sayi degildir'.format(girdi)\n",
    "    elif islem=='tek':\n",
    "        if int(girdi)%2==1:\n",
    "            return 'Evet {} sayisi bir tek sayidir'.format(girdi)\n",
    "        else:\n",
    "            return 'Hayir {} sayisi bir tek sayi degildir'.format(girdi)"
   ]
  },
  {
   "cell_type": "code",
   "execution_count": 13,
   "id": "ed3ad81b",
   "metadata": {},
   "outputs": [
    {
     "name": "stdout",
     "output_type": "stream",
     "text": [
      "Bir sayi girin:2\n",
      "Verinin tek mi cift mi oldugunu sorgula:cift\n"
     ]
    },
    {
     "data": {
      "text/plain": [
       "'Evet 2 sayisi bir cift sayidir'"
      ]
     },
     "execution_count": 13,
     "metadata": {},
     "output_type": "execute_result"
    }
   ],
   "source": [
    "uygulama()"
   ]
  },
  {
   "cell_type": "code",
   "execution_count": 14,
   "id": "3004ec8c",
   "metadata": {},
   "outputs": [],
   "source": [
    "def sayi_girdisi_kontrol_dongu():\n",
    "    girdi = input(\"Bir sayi giriniz:\")\n",
    "\n",
    "    while not girdi.isdigit():\n",
    "        print(\"Üzgünüm! Bu bir sayi tipi degisken degildir..\")\n",
    "        girdi = input(\"Bir sayi giriniz:\")\n",
    "        \n",
    "    else:\n",
    "        print(\"Tebrikler! Sayi tipi deger girdiniz...\")"
   ]
  },
  {
   "cell_type": "code",
   "execution_count": 15,
   "id": "9ae46f51",
   "metadata": {},
   "outputs": [
    {
     "name": "stdout",
     "output_type": "stream",
     "text": [
      "Bir sayi giriniz:adsadd\n",
      "Üzgünüm! Bu bir sayi tipi degisken degildir..\n",
      "Bir sayi giriniz:23\n",
      "Tebrikler! Sayi tipi deger girdiniz...\n"
     ]
    }
   ],
   "source": [
    "sayi_girdisi_kontrol_dongu()"
   ]
  },
  {
   "cell_type": "markdown",
   "id": "8fb29316",
   "metadata": {},
   "source": [
    "# Map, Filter ve Lambda Expressions Exercises:"
   ]
  },
  {
   "cell_type": "code",
   "execution_count": 17,
   "id": "224ffb1a",
   "metadata": {},
   "outputs": [
    {
     "data": {
      "text/plain": [
       "[1, 2, 3, 4, 5]"
      ]
     },
     "execution_count": 17,
     "metadata": {},
     "output_type": "execute_result"
    }
   ],
   "source": [
    "sayilar = [*range(1,6)]\n",
    "sayilar"
   ]
  },
  {
   "cell_type": "code",
   "execution_count": 31,
   "id": "cf9f5415",
   "metadata": {},
   "outputs": [
    {
     "name": "stdout",
     "output_type": "stream",
     "text": [
      "[1, 2, 3, 4, 5]\n",
      "1\n",
      "2\n",
      "3\n",
      "4\n",
      "5\n"
     ]
    }
   ],
   "source": [
    "sayilar = [*range(1,6)]\n",
    "print(sayilar)\n",
    "for index in range(len(sayilar)):\n",
    "    print(index)"
   ]
  },
  {
   "cell_type": "code",
   "execution_count": 32,
   "id": "0d91ea63",
   "metadata": {},
   "outputs": [],
   "source": [
    "def karesini_al(x):\n",
    "    return x**2"
   ]
  },
  {
   "cell_type": "code",
   "execution_count": 33,
   "id": "426e25e6",
   "metadata": {},
   "outputs": [
    {
     "data": {
      "text/plain": [
       "<map at 0x108a59210>"
      ]
     },
     "execution_count": 33,
     "metadata": {},
     "output_type": "execute_result"
    }
   ],
   "source": [
    "sayilar = [*range(1,6)]\n",
    "\n",
    "map(karesini_al, sayilar)   #bu durumda map komutu at 0x108a59210'da olusturuldu. Eger bunun yazdirilmasi isteniyorsa liste görünümü verilebilir."
   ]
  },
  {
   "cell_type": "code",
   "execution_count": 34,
   "id": "1792df01",
   "metadata": {},
   "outputs": [
    {
     "data": {
      "text/plain": [
       "[1, 4, 9, 16, 25]"
      ]
     },
     "execution_count": 34,
     "metadata": {},
     "output_type": "execute_result"
    }
   ],
   "source": [
    "[*map(karesini_al, sayilar)] #önce istenen finksiyon ve sonrasinda islem görücek eleman listesi."
   ]
  },
  {
   "cell_type": "code",
   "execution_count": 35,
   "id": "07befb4e",
   "metadata": {},
   "outputs": [],
   "source": [
    "def cift_sayilari_dondur(x):\n",
    "    if x%2==0:\n",
    "        return x\n",
    "    else:\n",
    "        pass"
   ]
  },
  {
   "cell_type": "code",
   "execution_count": 38,
   "id": "5f3a0043",
   "metadata": {},
   "outputs": [
    {
     "data": {
      "text/plain": [
       "4"
      ]
     },
     "execution_count": 38,
     "metadata": {},
     "output_type": "execute_result"
    }
   ],
   "source": [
    "cift_sayilari_dondur(4)"
   ]
  },
  {
   "cell_type": "code",
   "execution_count": 43,
   "id": "489454f5",
   "metadata": {},
   "outputs": [],
   "source": [
    "#Yukaridaki fonksiyon yerine daha profesyonalce bir yaklasim asagida gösterilmistir:\n",
    "\n",
    "def cift_sayilari_dondur1(x):\n",
    "    return x if x%2==0 else None"
   ]
  },
  {
   "cell_type": "code",
   "execution_count": 45,
   "id": "b8ed883c",
   "metadata": {},
   "outputs": [
    {
     "data": {
      "text/plain": [
       "8"
      ]
     },
     "execution_count": 45,
     "metadata": {},
     "output_type": "execute_result"
    }
   ],
   "source": [
    "cift_sayilari_dondur1(8)"
   ]
  },
  {
   "cell_type": "code",
   "execution_count": 49,
   "id": "dd1ae146",
   "metadata": {},
   "outputs": [
    {
     "data": {
      "text/plain": [
       "<filter at 0x108a59810>"
      ]
     },
     "execution_count": 49,
     "metadata": {},
     "output_type": "execute_result"
    }
   ],
   "source": [
    "sayilar1 = [*range(1,9)]\n",
    "\n",
    "filter(cift_sayilari_dondur1, sayilar1)     #Ayni map komutundaki gibi, yazdirilmasi icin liste ye donusturulmesi gerekmektedir."
   ]
  },
  {
   "cell_type": "code",
   "execution_count": 56,
   "id": "672ddc41",
   "metadata": {},
   "outputs": [
    {
     "data": {
      "text/plain": [
       "[2, 4, 6, 8]"
      ]
     },
     "execution_count": 56,
     "metadata": {},
     "output_type": "execute_result"
    }
   ],
   "source": [
    "list(filter(cift_sayilari_dondur1, sayilar1))"
   ]
  },
  {
   "cell_type": "code",
   "execution_count": 51,
   "id": "69207fd6",
   "metadata": {},
   "outputs": [],
   "source": [
    "####### Son olarak lambda komutu kullanimi: Öncesinde bir fonksiyon gerektirmeksizin komutun icerisinde kendi bir fonksiyon olusturur gibi davranir. \n",
    "## Asagida orenkte de goruldugu gibi kullanimi gayet fonksiyon yerinedir."
   ]
  },
  {
   "cell_type": "code",
   "execution_count": 55,
   "id": "da074617",
   "metadata": {},
   "outputs": [
    {
     "data": {
      "text/plain": [
       "[1, 4, 9, 16, 25]"
      ]
     },
     "execution_count": 55,
     "metadata": {},
     "output_type": "execute_result"
    }
   ],
   "source": [
    "[*map(lambda x: x**2, sayilar)]   #döngüdeki gibi x i her bir sayilar elemanina atiyor ve gerekli islemi uyguluyor."
   ]
  },
  {
   "cell_type": "markdown",
   "id": "0d08b869",
   "metadata": {},
   "source": [
    "# Fonksiyonlar Test Sorulari:"
   ]
  },
  {
   "cell_type": "code",
   "execution_count": 57,
   "id": "d32a135d",
   "metadata": {},
   "outputs": [],
   "source": [
    "def ustel_sayi_v1(a,b):\n",
    "    return a**b"
   ]
  },
  {
   "cell_type": "code",
   "execution_count": 58,
   "id": "f718ee17",
   "metadata": {},
   "outputs": [
    {
     "data": {
      "text/plain": [
       "9"
      ]
     },
     "execution_count": 58,
     "metadata": {},
     "output_type": "execute_result"
    }
   ],
   "source": [
    "ustel_sayi_v1(3,2)"
   ]
  },
  {
   "cell_type": "code",
   "execution_count": 60,
   "id": "0f97d6ab",
   "metadata": {},
   "outputs": [
    {
     "ename": "SyntaxError",
     "evalue": "incomplete input (4238443045.py, line 2)",
     "output_type": "error",
     "traceback": [
      "\u001b[0;36m  Cell \u001b[0;32mIn[60], line 2\u001b[0;36m\u001b[0m\n\u001b[0;31m    \u001b[0m\n\u001b[0m    ^\u001b[0m\n\u001b[0;31mSyntaxError\u001b[0m\u001b[0;31m:\u001b[0m incomplete input\n"
     ]
    }
   ],
   "source": [
    "def ustel_sayi_v2(a,b):\n",
    "    for a in range(,b+1):\n",
    "        \n",
    "        \n",
    "            "
   ]
  },
  {
   "cell_type": "code",
   "execution_count": 25,
   "id": "476ddcfd",
   "metadata": {},
   "outputs": [
    {
     "name": "stdout",
     "output_type": "stream",
     "text": [
      "[1, 2, 5, 6, 10]\n"
     ]
    }
   ],
   "source": [
    "liste1 = [1,5,10,2,6]\n",
    "liste1.sort()\n",
    "print(liste1)\n",
    "\n",
    "def listedeki_en_buyuk_iki_sayi(a):\n",
    "    a.sort()\n",
    "    print(a[-1]), print(a[-2])"
   ]
  },
  {
   "cell_type": "code",
   "execution_count": 26,
   "id": "c3c745af",
   "metadata": {},
   "outputs": [
    {
     "name": "stdout",
     "output_type": "stream",
     "text": [
      "10\n",
      "6\n"
     ]
    }
   ],
   "source": [
    "listedeki_en_buyuk_iki_sayi(liste1)"
   ]
  },
  {
   "cell_type": "code",
   "execution_count": 75,
   "id": "225f5936",
   "metadata": {},
   "outputs": [
    {
     "data": {
      "text/plain": [
       "[1, 5, 10, 2, 6]"
      ]
     },
     "execution_count": 75,
     "metadata": {},
     "output_type": "execute_result"
    }
   ],
   "source": [
    "liste1 = [1,5,10,2,6]\n",
    "liste1"
   ]
  },
  {
   "cell_type": "code",
   "execution_count": 79,
   "id": "7dbcb0ea",
   "metadata": {},
   "outputs": [
    {
     "data": {
      "text/plain": [
       "[1, 2, 5, 6, 10]"
      ]
     },
     "execution_count": 79,
     "metadata": {},
     "output_type": "execute_result"
    }
   ],
   "source": [
    "liste1.sort()\n",
    "liste1"
   ]
  },
  {
   "cell_type": "code",
   "execution_count": 119,
   "id": "0b5a654d",
   "metadata": {},
   "outputs": [],
   "source": [
    "liste2 = [1,2,3,5,'abc','a',True]\n",
    "\n",
    "def liste2_integerlar(a):\n",
    "    for x in a:\n",
    "        if x==int:\n",
    "            return x "
   ]
  },
  {
   "cell_type": "code",
   "execution_count": 1,
   "id": "bcb6d81c",
   "metadata": {},
   "outputs": [
    {
     "ename": "NameError",
     "evalue": "name 'liste2_integerlar' is not defined",
     "output_type": "error",
     "traceback": [
      "\u001b[0;31m---------------------------------------------------------------------------\u001b[0m",
      "\u001b[0;31mNameError\u001b[0m                                 Traceback (most recent call last)",
      "Cell \u001b[0;32mIn[1], line 1\u001b[0m\n\u001b[0;32m----> 1\u001b[0m liste2_integerlar(liste2)\n",
      "\u001b[0;31mNameError\u001b[0m: name 'liste2_integerlar' is not defined"
     ]
    }
   ],
   "source": [
    "liste2_integerlar(liste2)"
   ]
  },
  {
   "cell_type": "code",
   "execution_count": 7,
   "id": "8a964520",
   "metadata": {},
   "outputs": [
    {
     "data": {
      "text/plain": [
       "[1, 2, 3, 4, 5, 6, 7, 8, 9]"
      ]
     },
     "execution_count": 7,
     "metadata": {},
     "output_type": "execute_result"
    }
   ],
   "source": [
    "[*range(1,10)]"
   ]
  },
  {
   "cell_type": "code",
   "execution_count": 11,
   "id": "ddcb4169",
   "metadata": {},
   "outputs": [
    {
     "name": "stdout",
     "output_type": "stream",
     "text": [
      "1\n",
      "2\n",
      "6\n",
      "24\n",
      "120\n"
     ]
    }
   ],
   "source": [
    "sayi = 5\n",
    "faktoriyel = 1 \n",
    "\n",
    "for x in range(1,sayi+1):\n",
    "    faktoriyel = faktoriyel * x\n",
    "    print(faktoriyel)"
   ]
  },
  {
   "cell_type": "code",
   "execution_count": 24,
   "id": "6bafae3b",
   "metadata": {},
   "outputs": [],
   "source": [
    "faktoriyel = 1 \n",
    "\n",
    "def faktoriyel_hesaplama(sayi):\n",
    "    for x in range(1,sayi+1):\n",
    "        faktoriyel = faktoriyel * x\n",
    "    return(faktoriyel)"
   ]
  },
  {
   "cell_type": "code",
   "execution_count": 23,
   "id": "1e12eca9",
   "metadata": {},
   "outputs": [
    {
     "ename": "UnboundLocalError",
     "evalue": "cannot access local variable 'faktoriyel' where it is not associated with a value",
     "output_type": "error",
     "traceback": [
      "\u001b[0;31m---------------------------------------------------------------------------\u001b[0m",
      "\u001b[0;31mUnboundLocalError\u001b[0m                         Traceback (most recent call last)",
      "Cell \u001b[0;32mIn[23], line 1\u001b[0m\n\u001b[0;32m----> 1\u001b[0m faktoriyel_hesaplama(\u001b[38;5;241m6\u001b[39m)\n",
      "Cell \u001b[0;32mIn[22], line 5\u001b[0m, in \u001b[0;36mfaktoriyel_hesaplama\u001b[0;34m(sayi)\u001b[0m\n\u001b[1;32m      3\u001b[0m \u001b[38;5;28;01mdef\u001b[39;00m \u001b[38;5;21mfaktoriyel_hesaplama\u001b[39m(sayi):\n\u001b[1;32m      4\u001b[0m     \u001b[38;5;28;01mfor\u001b[39;00m x \u001b[38;5;129;01min\u001b[39;00m \u001b[38;5;28mrange\u001b[39m(\u001b[38;5;241m1\u001b[39m,sayi\u001b[38;5;241m+\u001b[39m\u001b[38;5;241m1\u001b[39m):\n\u001b[0;32m----> 5\u001b[0m         faktoriyel \u001b[38;5;241m=\u001b[39m faktoriyel \u001b[38;5;241m*\u001b[39m x\n\u001b[1;32m      6\u001b[0m     \u001b[38;5;28mprint\u001b[39m(faktoriyel)\n",
      "\u001b[0;31mUnboundLocalError\u001b[0m: cannot access local variable 'faktoriyel' where it is not associated with a value"
     ]
    }
   ],
   "source": [
    "faktoriyel_hesaplama(6)"
   ]
  },
  {
   "cell_type": "code",
   "execution_count": 20,
   "id": "ef3a07ee",
   "metadata": {},
   "outputs": [],
   "source": [
    "#### for döngüsü ile üslü sayi hesaplama:\n",
    "\n",
    "def üslü_sayi_for(a,b):\n",
    "    sayi = 1\n",
    "    for kuvvet in range(1,b+1):\n",
    "        sayi = sayi * a\n",
    "    return sayi"
   ]
  },
  {
   "cell_type": "code",
   "execution_count": 21,
   "id": "b53bbbab",
   "metadata": {},
   "outputs": [
    {
     "data": {
      "text/plain": [
       "16"
      ]
     },
     "execution_count": 21,
     "metadata": {},
     "output_type": "execute_result"
    }
   ],
   "source": [
    "üslü_sayi_for(2,4)"
   ]
  },
  {
   "cell_type": "code",
   "execution_count": 48,
   "id": "d33a2e99",
   "metadata": {},
   "outputs": [],
   "source": [
    "liste1 = [1000000, 90000000, 15000000]\n",
    "\n",
    "def sayi_tipi_eleman_iceren_liste(liste):\n",
    "    fonk_list = []\n",
    "    for x in liste:\n",
    "        if x/1000000==int:\n",
    "            fonk_list.append(x)\n",
    "        else:\n",
    "            None\n",
    "    return fonk_list"
   ]
  },
  {
   "cell_type": "code",
   "execution_count": 50,
   "id": "7b505bfd",
   "metadata": {},
   "outputs": [
    {
     "data": {
      "text/plain": [
       "[]"
      ]
     },
     "execution_count": 50,
     "metadata": {},
     "output_type": "execute_result"
    }
   ],
   "source": [
    "liste1 = [1000000, 90000000, 15000000]\n",
    "sayi_tipi_eleman_iceren_liste(liste1)"
   ]
  },
  {
   "cell_type": "code",
   "execution_count": 66,
   "id": "0c1f0d7e",
   "metadata": {},
   "outputs": [],
   "source": [
    "def sayi_tipi_eleman_iceren_liste1(liste):\n",
    "    fonk_list1 = []\n",
    "    for x in liste:\n",
    "        fonk_list1.append(int(x/1000000))\n",
    "    return fonk_list1"
   ]
  },
  {
   "cell_type": "code",
   "execution_count": 67,
   "id": "6767bcf5",
   "metadata": {},
   "outputs": [
    {
     "data": {
      "text/plain": [
       "[1, 90, 15]"
      ]
     },
     "execution_count": 67,
     "metadata": {},
     "output_type": "execute_result"
    }
   ],
   "source": [
    "liste1 = [1000000, 90000000, 15000000]\n",
    "sayi_tipi_eleman_iceren_liste1(liste1)"
   ]
  },
  {
   "cell_type": "code",
   "execution_count": 60,
   "id": "04395290",
   "metadata": {},
   "outputs": [
    {
     "ename": "SyntaxError",
     "evalue": "invalid syntax (2641612390.py, line 1)",
     "output_type": "error",
     "traceback": [
      "\u001b[0;36m  Cell \u001b[0;32mIn[60], line 1\u001b[0;36m\u001b[0m\n\u001b[0;31m    sayi_tipi_eleman_iceren_liste2():\u001b[0m\n\u001b[0m                                    ^\u001b[0m\n\u001b[0;31mSyntaxError\u001b[0m\u001b[0;31m:\u001b[0m invalid syntax\n"
     ]
    }
   ],
   "source": [
    "sayi_tipi_eleman_iceren_liste2():\n",
    "    return [*map(lambda x: x/1000000, liste1)]"
   ]
  },
  {
   "cell_type": "code",
   "execution_count": 65,
   "id": "6912054e",
   "metadata": {},
   "outputs": [
    {
     "data": {
      "text/plain": [
       "[1, 90, 15]"
      ]
     },
     "execution_count": 65,
     "metadata": {},
     "output_type": "execute_result"
    }
   ],
   "source": [
    "liste1 = [1000000, 90000000, 15000000]\n",
    "[*map(lambda x: int(x/1000000), liste1)]     #filter, map fonksiyonlari for döngüsünün görevini yerine getirir."
   ]
  },
  {
   "cell_type": "code",
   "execution_count": 84,
   "id": "9dc70adc",
   "metadata": {},
   "outputs": [],
   "source": [
    "def zaman_verisi_al():\n",
    "    \n",
    "    saat = input(\"saat giriniz: \")\n",
    "    if saat.isdigit():\n",
    "        saat = int(saat)\n",
    "        if ((saat>=0) and (saat<24)):\n",
    "            dakika = input(\"dakika giriniz: \")\n",
    "            if dakika.isdigit():\n",
    "                dakika = int(dakika)\n",
    "                if ((dakika>=0) and (dakika<60)):\n",
    "                    return \"giris yapilan zaman {}:{}\" .format(saat,dakika)\n",
    "                else:\n",
    "                    return \"Giris yapilan dakika araligi yanlis\"\n",
    "            else:\n",
    "                return \"Giris yapilan dakika tipi yanlis\"\n",
    "        else:\n",
    "            return \"Giris yapilan saat araligi yanlis\"\n",
    "    else:\n",
    "        return \"Giris yapilan saat tipi yanlis\""
   ]
  },
  {
   "cell_type": "code",
   "execution_count": 85,
   "id": "dc524de9",
   "metadata": {},
   "outputs": [
    {
     "name": "stdout",
     "output_type": "stream",
     "text": [
      "saat giriniz: 3\n",
      "dakika giriniz: 23\n"
     ]
    },
    {
     "data": {
      "text/plain": [
       "'giris yapilan zaman 3:23'"
      ]
     },
     "execution_count": 85,
     "metadata": {},
     "output_type": "execute_result"
    }
   ],
   "source": [
    "zaman_verisi_al()"
   ]
  }
 ],
 "metadata": {
  "kernelspec": {
   "display_name": "Python 3 (ipykernel)",
   "language": "python",
   "name": "python3"
  },
  "language_info": {
   "codemirror_mode": {
    "name": "ipython",
    "version": 3
   },
   "file_extension": ".py",
   "mimetype": "text/x-python",
   "name": "python",
   "nbconvert_exporter": "python",
   "pygments_lexer": "ipython3",
   "version": "3.11.3"
  }
 },
 "nbformat": 4,
 "nbformat_minor": 5
}
