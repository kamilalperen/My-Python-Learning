{
 "cells": [
  {
   "cell_type": "code",
   "execution_count": null,
   "id": "dce59742",
   "metadata": {},
   "outputs": [],
   "source": [
    "%ls    #O klasör icerisinde listeleme yapar "
   ]
  },
  {
   "cell_type": "code",
   "execution_count": 4,
   "id": "e2f2b54e",
   "metadata": {},
   "outputs": [
    {
     "data": {
      "text/plain": [
       "'/Users/komalperen/Desktop/Python Yakin Kampüs'"
      ]
     },
     "execution_count": 4,
     "metadata": {},
     "output_type": "execute_result"
    }
   ],
   "source": [
    "%pwd    #Dosya konumunu gösterir."
   ]
  },
  {
   "cell_type": "markdown",
   "id": "c39f5b33",
   "metadata": {},
   "source": [
    "# OS Modülü (her ide de kullanilabilen komutlardir)"
   ]
  },
  {
   "cell_type": "markdown",
   "id": "1d95951b",
   "metadata": {},
   "source": [
    "# Navigasyon ve listeleme:"
   ]
  },
  {
   "cell_type": "code",
   "execution_count": null,
   "id": "e3d9e2ab",
   "metadata": {},
   "outputs": [],
   "source": [
    "#import disaridan bir kütüphane yüklerken kullanilan komuttur."
   ]
  },
  {
   "cell_type": "code",
   "execution_count": 6,
   "id": "9b3c0940",
   "metadata": {},
   "outputs": [],
   "source": [
    "import os   #os kütüphanesi yüklendi."
   ]
  },
  {
   "cell_type": "code",
   "execution_count": 9,
   "id": "4aa4d624",
   "metadata": {},
   "outputs": [
    {
     "data": {
      "text/plain": [
       "'/Users/komalperen/Desktop/Python Yakin Kampüs'"
      ]
     },
     "execution_count": 9,
     "metadata": {},
     "output_type": "execute_result"
    }
   ],
   "source": [
    "os.getcwd()   #current working directory."
   ]
  },
  {
   "cell_type": "code",
   "execution_count": 19,
   "id": "ca2b0143",
   "metadata": {},
   "outputs": [
    {
     "data": {
      "text/plain": [
       "['.DS_Store',\n",
       " 'Untitled.ipynb',\n",
       " 'Python (Yakin Kampus)1.ipynb',\n",
       " 'Yakin Kampüs Python 2.ipynb',\n",
       " 'Python Moduls.ipynb',\n",
       " 'Python_Egitim-master',\n",
       " '.ipynb_checkpoints']"
      ]
     },
     "execution_count": 19,
     "metadata": {},
     "output_type": "execute_result"
    }
   ],
   "source": [
    "os.listdir()     #parantez bos oldugu icin default olarak bu dosya konumu icin calisiyor."
   ]
  },
  {
   "cell_type": "code",
   "execution_count": 18,
   "id": "60671c9d",
   "metadata": {},
   "outputs": [
    {
     "data": {
      "text/plain": [
       "['.localized', 'Shared', 'komalperen']"
      ]
     },
     "execution_count": 18,
     "metadata": {},
     "output_type": "execute_result"
    }
   ],
   "source": [
    "os.listdir('/Users')"
   ]
  },
  {
   "cell_type": "markdown",
   "id": "c4d5a8d6",
   "metadata": {},
   "source": [
    "# Yeni Eleman Olusturma, Isim degistirme ve Silme"
   ]
  },
  {
   "cell_type": "code",
   "execution_count": 20,
   "id": "3bfa8791",
   "metadata": {},
   "outputs": [],
   "source": [
    "os.mkdir('/Users/komalperen/Desktop/Python Yakin Kampüs/denemeler') #make directory."
   ]
  },
  {
   "cell_type": "code",
   "execution_count": 21,
   "id": "1d34087b",
   "metadata": {},
   "outputs": [
    {
     "data": {
      "text/plain": [
       "['denemeler',\n",
       " '.DS_Store',\n",
       " 'Untitled.ipynb',\n",
       " 'Python (Yakin Kampus)1.ipynb',\n",
       " 'Yakin Kampüs Python 2.ipynb',\n",
       " 'Python Moduls.ipynb',\n",
       " 'Python_Egitim-master',\n",
       " '.ipynb_checkpoints']"
      ]
     },
     "execution_count": 21,
     "metadata": {},
     "output_type": "execute_result"
    }
   ],
   "source": [
    "os.listdir()"
   ]
  },
  {
   "cell_type": "code",
   "execution_count": 22,
   "id": "cc4e7082",
   "metadata": {},
   "outputs": [],
   "source": [
    "os.rmdir('/Users/komalperen/Desktop/Python Yakin Kampüs/denemeler')  #remove directory. ##Eger klasörün ici bos ise rm komutu ile o klasör silinebilir."
   ]
  },
  {
   "cell_type": "code",
   "execution_count": 23,
   "id": "8c9e29e9",
   "metadata": {},
   "outputs": [
    {
     "data": {
      "text/plain": [
       "['.DS_Store',\n",
       " 'Untitled.ipynb',\n",
       " 'Python (Yakin Kampus)1.ipynb',\n",
       " 'Yakin Kampüs Python 2.ipynb',\n",
       " 'Python Moduls.ipynb',\n",
       " 'Python_Egitim-master',\n",
       " '.ipynb_checkpoints']"
      ]
     },
     "execution_count": 23,
     "metadata": {},
     "output_type": "execute_result"
    }
   ],
   "source": [
    "os.listdir()"
   ]
  },
  {
   "cell_type": "markdown",
   "id": "be151ccf",
   "metadata": {},
   "source": [
    "# BAZI MODULLER VE NE ISE YARADIKLARI:"
   ]
  },
  {
   "cell_type": "markdown",
   "id": "d3b9fc9d",
   "metadata": {},
   "source": [
    "# 1-) veri analizi ve görsellestirme ile ilgili en bilindik 10 kütüphane:"
   ]
  },
  {
   "cell_type": "markdown",
   "id": "83135e45",
   "metadata": {},
   "source": [
    "Python, örneğin R‘ın aksine, veri analizi ve istatistik gibi alanlar için özellikle yaratılmamış. Genel amaçlı bu dille oyun yazmaktan evinizdeki akıllı cihazları yönetmeye kadar sayısız alanda çalışabilirsiniz.\n",
    "\n",
    "Python’ın belirli bir faaliyet alanındaki özel işlevleri gerçekleştirmesi için yazılmış 100 bini aşkın kütüphane var. Her bir kütüphane, bir görevi yerine getirmek için tasarlanmış kodlardan oluşan bir dizi ilişkili modül içeriyor.\n",
    "\n",
    "Veri toplama/kazıma, veri temizleme, veri analizi ve veri görselleştirme gibi görevler için de binlerce Python kütüphanesi mevcut. Yazdığınız Python betiğini (script) çalıştırmadan önce, yararlanacağınız kütüphaneleri de kurmanız gerekiyor.\n",
    "\n",
    "\n",
    "\n",
    "\n",
    "\n",
    "\n",
    "\n",
    "\n",
    "\n",
    "a) PANDAS : Pandas, Python programlama dili için açık kaynaklı, güçlü bir veri analizi ve manipülasyon kütüphanesi. “Panel Data” teriminden türetilmiş ve temel olarak iki ana veri yapısına odaklanıyor: “Series” (dizi) ve “DataFrame” (veri çerçevesi). Series, tek boyutlu bir veri yapısı; DataFrame ise birçok veri türünü içerebilen iki boyutlu (tablo benzeri) bir yapı. \n",
    "    CSV, Excel ve SQL veritabanları gibi birçok formatta veriyi Pandas ile kolayca işleyebilir, bu verilere istatistiksel analizler uygulayabilirsiniz. Pandas aynı zamanda eksik veri işleme, zaman dizisi analizi ve kategorik veri işleme gibi birçok özelliği destekliyor.\n",
    "    \n",
    "\n",
    "b) NUMPY : “Sayısal Python” (numerical Python) ifadesinin kısaltmasından adını alan Numpy, Python için temel bilimsel hesaplama kütüphanelerinden biri. “Series” (dizi) tipi nesneleri (özellikle çok boyutlu diziler) ve bu diziler üzerinde işlem yapabilecek metotları içeriyor. “ndarray” adlı özel dizi tipiyle, Python’daki liste yapısından çok daha hızlı ve verimli hesaplamalar yapabiliyor.\n",
    "    C dilinde yazılan Numpy; lineer cebir, Fourier dönüşümü ve rastgele sayı üretimi gibi birçok matematiksel fonksiyona doğrudan erişim imkânı sunuyor.\n",
    "    \n",
    "c) Matplotlib : Matplotlib, Python programlama dili için kapsamlı bir 2 boyutlu (2D) çizim kütüphanesi. Temel amacı; bilimsel görselleştirmeler, grafikler ve figürler oluşturmak için Python’a yüksek kaliteli çizim yeteneği sağlamak. Birçok platformda çalışabilir ve çok sayıda çıktı formatını destekler.\n",
    "\n",
    "\n",
    "d) Seaborn : Seaborn da Python için veri görselleştirme kütüphanesi. Matplotlib üzerine inşa edilmiş ve bu kütüphaneyle birlikte çalışırken daha estetik ve bilgilendirici grafikler oluşturmayı kolaylaştırıyor. Temaları destekliyor, ayrıca renk paletleriyle ve istatistiksel metotlarla zenginleştirilmiş.\n",
    "\n",
    "\n",
    "e) Beautiful Soup : Beautiful Soup, Python için en popüler web kazıma (web scraping) kütüphanelerinden biri. HTML ve XML sayfalarında gezinmeyi, arama yapmayı ve veri çekmeyi kolaylaştırır. Web’den veri çekmek isteyenler için tasarlanmış bu kütüphane, ilgili belgeyi ağaç yapısına dönüştürerek etkili bir şekilde işlem yapmayı sağlar.\n",
    "\n",
    "\n",
    "d) Scrapy : Scrapy, Python için gelişmiş bir web kazıma ve veri çekme (data crawling) çerçevesi. Birden çok web sayfasını gezip verileri çekmek için oldukça güçlü. Asenkron işleme özellikleri sayesinde hızlı ve etkili bir şekilde veri toplayabiliyor. Otomatikleştirilmiş ve ölçeklenebilir bir çözüm sağlıyor.\n",
    "\n",
    "   Orta ila büyük ölçekli veri toplama projeleri için ideal olan Scrapy; oturum yönetimi, kullanıcı değiştirme, proxy desteği ve çok daha fazlasını dâhili özellikleri arasında sunuyor. Modüler yapısı ve geniş özellik seti, her türlü web kaynağından veri çekme ihtiyaçlarını karşılamaya yetecek kapasitede.\n",
    "   \n",
    "\n",
    "e) Requests : Requests, Python için HTTP istekleri yapmayı basit ve kullanıcı dostu hâle getiren standart bir kütüphane. Temiz bir uygulama programlama arayüzü (API) yapısına sahip olan bu kütüphane, web üzerindeki kaynaklara erişim için ihtiyaç duyulan birçok işlevi kolaylıkla gerçekleştirmenizi sağlıyor.\n",
    "\n",
    "   Otomatik içerik kodlama ve çözme, oturumları sürekli tutma ve tarayıcı benzeri özelliklerle donatılan Requests, çeşitli kimlik doğrulama türlerini destekliyor.\n",
    "   \n",
    "   \n",
    "f) GeoPandas : GeoPandas, Python için coğrafi verilerle çalışmayı kolaylaştıran bir kütüphane. Pandas kütüphanesinin gücünü kullanarak, coğrafi veri yapıları ve işlevlerini bir araya getiriyor. Bu sayede mekânsal veri analizini ve manipülasyonunu kolaylaştırıyor.\n",
    "\n",
    "\n",
    "g) Folium : Etkileşimli haritalar oluşturmaya odaklanan bir kütüphane olan Folium, Leaflet.js’in gücünü Python ile birleştirip coğrafi veriyi dinamik olarak görselleştiriyor.\n",
    "   İçeriklere kolayca entegre edilebilen, özelleştirilebilir ve etkileşimli haritalar sunmak isteyenlerin tercih ettiği başlıca Python kütüphanelerinden olan Folium, JavaScript kodu yazma ihtiyacını ortadan kaldırıyor.\n",
    "   Mekânsal verilere dayalı hikayeleri görselleştirmek ve okuyucularına etkileyici coğrafi analizler sunmak için ideal bir seçenek olan Folium’un haritalarını Jupyter Notebook içerisinde de görüntüleyebilirsiniz.\n",
    "   \n",
    "   \n",
    "h) Agate : Buraya kadar saydığımız Python kütüphanelerini; veri analistlerinden istatistikçilere, tıbbî araştırmacılardan kartograflara dek farklı alanlarda birçok uzman ve bilim insanı kullanıyor. Eğer Pandas ve Numpy gibi kütüphaneler bir haberci olarak size karmaşık geliyorsa, onların veri gazetecileri için özel olarak geliştirilmiş sade bir sürümü olan Agate‘yi deneyebilirsiniz.\n",
    "   Agate, gazetecilikte karşılaşılan veri analizi ihtiyaçlarına özgü araçlar ve metotlar sunuyor. Pandas’tan daha basit ve spesifik bir kullanım amacına hizmet ediyor. Büyük veri setlerinde gruplama, sıralama, filtreleme gibi temel işlemleri Agate ile hızlıca yapabilirsiniz. Bu kütüphanenin veri görselleştirmeleri ise estetiği değil, işlevselliği önceliklendiriyor."
   ]
  },
  {
   "cell_type": "markdown",
   "id": "21addcfe",
   "metadata": {},
   "source": [
    "# 2-) bazi cok kullanilan \"Biltun\" kütüphaneleri : \n",
    "--> Biltun: Python icerisinde halihazirda kurulu olan modüller, kütüphanelerdir."
   ]
  },
  {
   "cell_type": "markdown",
   "id": "3e5ec6b1",
   "metadata": {},
   "source": [
    "a) os : Acilimi 'Opereating System' dir. Genel olarak klasörler ve dosyalar arasinda gezinimi ele alir.\n",
    "\n",
    "\n",
    "b) re : Acilimi 'Regular Expressions' Regex' dir. Belirli bir yazi icerisinde kelime filtreleme, kelimenin kac           kez kullanildigi gibi cesitli islevleri vardir.\n",
    "\n",
    "\n",
    "c) random : rastegele rakamlar olusturan listeleri ona göre siralayan, rastgelelik üzerine kurulu bir module'dür\n",
    "\n",
    "\n",
    "d) math : Mathematical functions olarak isimlendirilir. Matematiksel islemler icin kullanilan bir modüldür. \n",
    "\n",
    "NOT: eger \"help(kütüphane)\" yazilirsa o kütüphanede kullanilabilecek komutlar görülebilir.\n",
    "\n",
    "\n",
    "e) collections : collections modülü birden fazla alt uygulama saglar. (Counter) Module'ü sayac islevi görür.\n",
    "\n",
    "NOT: normalde kütüphaneler \"import ..kütüphane adi..\" seklinde yazilir. Eger kütüphane cok büyükse sadece ihtiyac duyulan alt Module alinabilir. Bunu \"from ..kütüphane adi.. import alt module ismi 'Counter' gibi.\".\n",
    "\n",
    "\n",
    "f) datetime : Basic date and time types. 'datetime' kütüphanesi icinden 'time' module ü de özel olarak bulunur.\n",
    "\n",
    "\n",
    "[g) request] : Bu modül sunucu(server) ve kullanici(client) arasinda veri akisini, otomatiklestirme gibi cok islevsel ve önemli bir module'dür. Sunucu altinda tutulan verilere talep üzerine ulasmak icin kullanilir.\n"
   ]
  },
  {
   "cell_type": "code",
   "execution_count": null,
   "id": "0b24ae5d",
   "metadata": {},
   "outputs": [],
   "source": []
  }
 ],
 "metadata": {
  "kernelspec": {
   "display_name": "Python 3 (ipykernel)",
   "language": "python",
   "name": "python3"
  },
  "language_info": {
   "codemirror_mode": {
    "name": "ipython",
    "version": 3
   },
   "file_extension": ".py",
   "mimetype": "text/x-python",
   "name": "python",
   "nbconvert_exporter": "python",
   "pygments_lexer": "ipython3",
   "version": "3.11.3"
  }
 },
 "nbformat": 4,
 "nbformat_minor": 5
}
