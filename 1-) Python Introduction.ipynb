{
 "cells": [
  {
   "cell_type": "markdown",
   "id": "acc1de01-b32d-428d-bb1b-48abedb52dfa",
   "metadata": {},
   "source": [
    "INTRODUCTION :"
   ]
  },
  {
   "cell_type": "code",
   "execution_count": null,
   "id": "23453d36",
   "metadata": {},
   "outputs": [],
   "source": [
    "print(\"Hello World\")\n",
    "print('Herkese \\nSelamlar Dostlar')    # \\n\n",
    "print('Herkese \\tSelamlar Dostlar')    # \\t"
   ]
  },
  {
   "cell_type": "code",
   "execution_count": null,
   "id": "d2e6d088",
   "metadata": {},
   "outputs": [],
   "source": [
    "# Using the format method:\n",
    "print('Benim Adim Alperen')\n",
    "print('Benim Adim  {}' .format ('Alperen'))\n",
    "print('Benim Adim  {} , yasim {}' .format ('Alperen' , 21))\n",
    "print('Benim Adim  {0} , yasim {1}' .format ('Alperen' , 21))\n",
    "print('Benim Adim  {1} , yasim {0}' .format ('Alperen' , 21))\n",
    "print('Benim Adim  {ad} , yasim {yas}' .format (ad = 'Alperen' , yas = 21))\n",
    "print('Benim Adim  {ad} , yasim {yas}' .format (yas = 21 , ad = 'Alperen'))"
   ]
  },
  {
   "cell_type": "code",
   "execution_count": 21,
   "id": "35d6d9c4",
   "metadata": {},
   "outputs": [
    {
     "name": "stdout",
     "output_type": "stream",
     "text": [
      "10\n"
     ]
    }
   ],
   "source": [
    "sayi = 10 \n",
    "print(sayi)"
   ]
  },
  {
   "cell_type": "code",
   "execution_count": 22,
   "id": "fcd0fd17",
   "metadata": {},
   "outputs": [
    {
     "name": "stdout",
     "output_type": "stream",
     "text": [
      "11\n"
     ]
    }
   ],
   "source": [
    "sayi = 11 \n",
    "print(sayi)"
   ]
  },
  {
   "cell_type": "code",
   "execution_count": 23,
   "id": "b4796813",
   "metadata": {},
   "outputs": [
    {
     "name": "stdout",
     "output_type": "stream",
     "text": [
      "12\n"
     ]
    }
   ],
   "source": [
    "sayi = sayi + 1 \n",
    "print(sayi)"
   ]
  },
  {
   "cell_type": "code",
   "execution_count": null,
   "id": "b74c137b",
   "metadata": {},
   "outputs": [],
   "source": [
    "# spaces in naming are indicated with \"_\".\n",
    "# names with a value and command names should not be used when making new names.\n"
   ]
  },
  {
   "cell_type": "code",
   "execution_count": null,
   "id": "2abbcf10",
   "metadata": {},
   "outputs": [],
   "source": [
    "# Integer --> int --> 5,10,15... \n",
    "# Float --> float --> 2.5, 3.8, 9.0 ... \n",
    "# String --> str --> \"Selam\", 'Abs' ... \n",
    "# Boolean --> bool --> True , False\n",
    "# List --> list --> [1.2,10,'Alperen',True,1]\n",
    "# Tuple --> tup --> (1,2,True) \n",
    "# Set --> set --> {1,2,True,'a'} \n",
    "# Dictionary --> dict --> {'isim': 'Mesut' , 'yas': 21}\n",
    "\n",
    "##### The above are the most common data types used in python."
   ]
  },
  {
   "cell_type": "markdown",
   "id": "bf3ca8ef",
   "metadata": {},
   "source": [
    "# Integer and Float commands:"
   ]
  },
  {
   "cell_type": "code",
   "execution_count": null,
   "id": "db64270b",
   "metadata": {},
   "outputs": [],
   "source": [
    "print(2+5)\n",
    "print(3-1)\n",
    "print(4*7)\n",
    "print(18/6)\n",
    "print(5%3)\n",
    "print(1+(6*4)/2)\n",
    "print(2.5*3)\n",
    "print(2.0*5) "
   ]
  },
  {
   "cell_type": "markdown",
   "id": "7eec1f08",
   "metadata": {},
   "source": [
    "# String command:"
   ]
  },
  {
   "cell_type": "code",
   "execution_count": null,
   "id": "ebea12c0",
   "metadata": {},
   "outputs": [],
   "source": [
    "strvar = 'Python'\n",
    "print(strvar)    # In strings, each letter is a list element."
   ]
  },
  {
   "cell_type": "code",
   "execution_count": 50,
   "id": "c30d7f5f",
   "metadata": {},
   "outputs": [
    {
     "data": {
      "text/plain": [
       "'t'"
      ]
     },
     "execution_count": 50,
     "metadata": {},
     "output_type": "execute_result"
    }
   ],
   "source": [
    "strvar[2]"
   ]
  },
  {
   "cell_type": "code",
   "execution_count": null,
   "id": "70f1e18b",
   "metadata": {},
   "outputs": [],
   "source": [
    "strvar[1:5] # From 1 to 5, not including 5"
   ]
  },
  {
   "cell_type": "code",
   "execution_count": 48,
   "id": "4de9c0c2",
   "metadata": {},
   "outputs": [
    {
     "data": {
      "text/plain": [
       "'hon'"
      ]
     },
     "execution_count": 48,
     "metadata": {},
     "output_type": "execute_result"
    }
   ],
   "source": [
    "strvar[3:]\n"
   ]
  },
  {
   "cell_type": "code",
   "execution_count": null,
   "id": "35dee52b",
   "metadata": {},
   "outputs": [],
   "source": [
    "strvar[:4] "
   ]
  },
  {
   "cell_type": "code",
   "execution_count": null,
   "id": "eef9678d",
   "metadata": {},
   "outputs": [],
   "source": [
    "len(strvar) # number of elements length"
   ]
  },
  {
   "cell_type": "code",
   "execution_count": 85,
   "id": "6fd28c15",
   "metadata": {},
   "outputs": [],
   "source": [
    "strvar = 'Python' "
   ]
  },
  {
   "cell_type": "code",
   "execution_count": 86,
   "id": "e33076ad",
   "metadata": {},
   "outputs": [
    {
     "name": "stdout",
     "output_type": "stream",
     "text": [
      "Python\n"
     ]
    }
   ],
   "source": [
    "print(strvar) "
   ]
  },
  {
   "cell_type": "code",
   "execution_count": 89,
   "id": "ed503036",
   "metadata": {},
   "outputs": [
    {
     "data": {
      "text/plain": [
       "'Python ogren!'"
      ]
     },
     "execution_count": 89,
     "metadata": {},
     "output_type": "execute_result"
    }
   ],
   "source": [
    "strvar + ' ogren!'"
   ]
  },
  {
   "cell_type": "code",
   "execution_count": 91,
   "id": "a4e54738",
   "metadata": {},
   "outputs": [],
   "source": [
    "strvar = strvar + ' ogren!'"
   ]
  },
  {
   "cell_type": "code",
   "execution_count": 92,
   "id": "50083c88",
   "metadata": {},
   "outputs": [
    {
     "name": "stdout",
     "output_type": "stream",
     "text": [
      "Python ogren!\n"
     ]
    }
   ],
   "source": [
    "print(strvar)"
   ]
  },
  {
   "cell_type": "code",
   "execution_count": 94,
   "id": "f99d2da3",
   "metadata": {},
   "outputs": [
    {
     "name": "stdout",
     "output_type": "stream",
     "text": [
      "Python ogren!Python ogren!Python ogren!Python ogren!Python ogren!\n"
     ]
    }
   ],
   "source": [
    "print(strvar * 5)"
   ]
  },
  {
   "cell_type": "code",
   "execution_count": null,
   "id": "b164fa41",
   "metadata": {},
   "outputs": [],
   "source": [
    "print(strvar.upper()) "
   ]
  },
  {
   "cell_type": "code",
   "execution_count": 96,
   "id": "927e6a73",
   "metadata": {},
   "outputs": [
    {
     "name": "stdout",
     "output_type": "stream",
     "text": [
      "python ogren!\n"
     ]
    }
   ],
   "source": [
    "print(strvar.lower())"
   ]
  },
  {
   "cell_type": "code",
   "execution_count": null,
   "id": "5a9eba6c",
   "metadata": {},
   "outputs": [],
   "source": [
    "print(strvar.split()) "
   ]
  },
  {
   "cell_type": "code",
   "execution_count": 100,
   "id": "3fb396b0",
   "metadata": {},
   "outputs": [
    {
     "name": "stdout",
     "output_type": "stream",
     "text": [
      "['Pyth', 'n ', 'gren!']\n"
     ]
    }
   ],
   "source": [
    "print(strvar.split('o'))"
   ]
  },
  {
   "cell_type": "code",
   "execution_count": null,
   "id": "a5d71110",
   "metadata": {},
   "outputs": [],
   "source": [
    "print(strvar.split(sep='o' , maxsplit=1)) "
   ]
  },
  {
   "cell_type": "markdown",
   "id": "070c1662",
   "metadata": {},
   "source": [
    "# Boolean command:"
   ]
  },
  {
   "cell_type": "code",
   "execution_count": 114,
   "id": "c7a799cd",
   "metadata": {},
   "outputs": [
    {
     "name": "stdout",
     "output_type": "stream",
     "text": [
      "<class 'bool'>\n",
      "False\n",
      "<class 'str'>\n"
     ]
    }
   ],
   "source": [
    "a = True \n",
    "b = False\n",
    "print(type(b))\n",
    "c = 'False'\n",
    "print(False)\n",
    "print(type(c))"
   ]
  },
  {
   "cell_type": "code",
   "execution_count": null,
   "id": "73945671",
   "metadata": {},
   "outputs": [],
   "source": [
    "# single = is used to assign a value. two == is used to query whether they are equal.\n",
    "yas1 = 18\n",
    "yas2 = 20 \n",
    "print(yas1>18)"
   ]
  },
  {
   "cell_type": "code",
   "execution_count": 122,
   "id": "6d672cd8",
   "metadata": {},
   "outputs": [
    {
     "data": {
      "text/plain": [
       "False"
      ]
     },
     "execution_count": 122,
     "metadata": {},
     "output_type": "execute_result"
    }
   ],
   "source": [
    "yas1 == 20"
   ]
  },
  {
   "cell_type": "code",
   "execution_count": 121,
   "id": "0ae44d2e",
   "metadata": {},
   "outputs": [
    {
     "data": {
      "text/plain": [
       "True"
      ]
     },
     "execution_count": 121,
     "metadata": {},
     "output_type": "execute_result"
    }
   ],
   "source": [
    "yas2 == 20"
   ]
  },
  {
   "cell_type": "code",
   "execution_count": null,
   "id": "337588e2",
   "metadata": {},
   "outputs": [],
   "source": [
    "\n",
    "yas2 != 20 "
   ]
  },
  {
   "cell_type": "code",
   "execution_count": null,
   "id": "c08d456e",
   "metadata": {},
   "outputs": [],
   "source": [
    "not yas2 > 18"
   ]
  },
  {
   "cell_type": "code",
   "execution_count": 125,
   "id": "fb42c7d3",
   "metadata": {},
   "outputs": [
    {
     "data": {
      "text/plain": [
       "True"
      ]
     },
     "execution_count": 125,
     "metadata": {},
     "output_type": "execute_result"
    }
   ],
   "source": [
    "yas2 > 18"
   ]
  },
  {
   "cell_type": "code",
   "execution_count": 126,
   "id": "5ef3cd8f",
   "metadata": {},
   "outputs": [
    {
     "data": {
      "text/plain": [
       "False"
      ]
     },
     "execution_count": 126,
     "metadata": {},
     "output_type": "execute_result"
    }
   ],
   "source": [
    "not yas2 == 20"
   ]
  },
  {
   "cell_type": "markdown",
   "id": "ee9eb069",
   "metadata": {},
   "source": [
    "# List and Set commands:"
   ]
  },
  {
   "cell_type": "code",
   "execution_count": 127,
   "id": "fe8c1088",
   "metadata": {},
   "outputs": [
    {
     "name": "stdout",
     "output_type": "stream",
     "text": [
      "['a', 'b', 'c', 'd']\n"
     ]
    }
   ],
   "source": [
    "liste = ['a', 'b', 'c', 'd']\n",
    "print(liste)"
   ]
  },
  {
   "cell_type": "code",
   "execution_count": 128,
   "id": "f38337d4",
   "metadata": {},
   "outputs": [
    {
     "name": "stdout",
     "output_type": "stream",
     "text": [
      "['a', 'b', 'c', 'd', 'e']\n"
     ]
    }
   ],
   "source": [
    "liste = liste + ['e']\n",
    "print(liste)"
   ]
  },
  {
   "cell_type": "code",
   "execution_count": 129,
   "id": "9c192b4a",
   "metadata": {},
   "outputs": [
    {
     "data": {
      "text/plain": [
       "'c'"
      ]
     },
     "execution_count": 129,
     "metadata": {},
     "output_type": "execute_result"
    }
   ],
   "source": [
    "liste[2]"
   ]
  },
  {
   "cell_type": "code",
   "execution_count": 130,
   "id": "69a74769",
   "metadata": {},
   "outputs": [
    {
     "data": {
      "text/plain": [
       "['b', 'c', 'd']"
      ]
     },
     "execution_count": 130,
     "metadata": {},
     "output_type": "execute_result"
    }
   ],
   "source": [
    "liste[1:4]"
   ]
  },
  {
   "cell_type": "code",
   "execution_count": null,
   "id": "292dcec5",
   "metadata": {},
   "outputs": [],
   "source": [
    "liste.append('f') \n",
    "print(liste)"
   ]
  },
  {
   "cell_type": "code",
   "execution_count": 138,
   "id": "6329e8a9",
   "metadata": {},
   "outputs": [
    {
     "name": "stdout",
     "output_type": "stream",
     "text": [
      "['a', 'b', 'c', 'd']\n"
     ]
    }
   ],
   "source": [
    "liste = ['a', 'b', 'c', 'd']\n",
    "print(liste)"
   ]
  },
  {
   "cell_type": "code",
   "execution_count": 139,
   "id": "7da00e62",
   "metadata": {},
   "outputs": [
    {
     "data": {
      "text/plain": [
       "'d'"
      ]
     },
     "execution_count": 139,
     "metadata": {},
     "output_type": "execute_result"
    }
   ],
   "source": [
    "liste.pop()"
   ]
  },
  {
   "cell_type": "code",
   "execution_count": 140,
   "id": "8257f143",
   "metadata": {},
   "outputs": [
    {
     "name": "stdout",
     "output_type": "stream",
     "text": [
      "['a', 'b', 'c']\n"
     ]
    }
   ],
   "source": [
    "print(liste)"
   ]
  },
  {
   "cell_type": "code",
   "execution_count": 145,
   "id": "8a1eec9f",
   "metadata": {},
   "outputs": [
    {
     "name": "stdout",
     "output_type": "stream",
     "text": [
      "['a', 'b', 'c', 'd', 'e']\n"
     ]
    }
   ],
   "source": [
    "liste = ['a', 'b', 'c', 'd','e']\n",
    "print(liste)"
   ]
  },
  {
   "cell_type": "code",
   "execution_count": null,
   "id": "be42d0c9",
   "metadata": {},
   "outputs": [],
   "source": [
    "liste1 = liste.pop()    # element e is assigned to list1.\n",
    "print(liste1)"
   ]
  },
  {
   "cell_type": "code",
   "execution_count": 148,
   "id": "60f3b3ea",
   "metadata": {},
   "outputs": [
    {
     "name": "stdout",
     "output_type": "stream",
     "text": [
      "['a', 'b', 'c', 'd']\n"
     ]
    }
   ],
   "source": [
    "print(liste)"
   ]
  },
  {
   "cell_type": "code",
   "execution_count": 149,
   "id": "e5e5cd84",
   "metadata": {},
   "outputs": [
    {
     "name": "stdout",
     "output_type": "stream",
     "text": [
      "['a', 'b', 'c']\n"
     ]
    }
   ],
   "source": [
    "liste.pop(3)\n",
    "print(liste)"
   ]
  },
  {
   "cell_type": "code",
   "execution_count": 151,
   "id": "2b29905c",
   "metadata": {},
   "outputs": [],
   "source": [
    "sayilar = [213,31231,321,3,223,3]\n",
    "sayilar.sort()"
   ]
  },
  {
   "cell_type": "code",
   "execution_count": null,
   "id": "135208d6",
   "metadata": {},
   "outputs": [],
   "source": [
    "print(sayilar)  "
   ]
  },
  {
   "cell_type": "code",
   "execution_count": 153,
   "id": "4d20df5d",
   "metadata": {},
   "outputs": [
    {
     "name": "stdout",
     "output_type": "stream",
     "text": [
      "[31231, 321, 223, 213, 3, 3]\n"
     ]
    }
   ],
   "source": [
    "sayilar.reverse()\n",
    "print(sayilar)"
   ]
  },
  {
   "cell_type": "code",
   "execution_count": null,
   "id": "69cea450",
   "metadata": {},
   "outputs": [],
   "source": [
    "set(sayilar)      # Elements used more than once are reduced to a single element and are shown with curly brackets."
   ]
  },
  {
   "cell_type": "code",
   "execution_count": 156,
   "id": "31b61126",
   "metadata": {},
   "outputs": [
    {
     "name": "stdout",
     "output_type": "stream",
     "text": [
      "[31231, 321, 223, 213, 3, 3]\n"
     ]
    }
   ],
   "source": [
    "print(sayilar)"
   ]
  },
  {
   "cell_type": "code",
   "execution_count": null,
   "id": "c43d9f3c",
   "metadata": {},
   "outputs": [],
   "source": [
    "set(sayilar)     # Numbers are automatically printed from smallest to largest."
   ]
  },
  {
   "cell_type": "code",
   "execution_count": 158,
   "id": "2436e7c8",
   "metadata": {},
   "outputs": [
    {
     "name": "stdout",
     "output_type": "stream",
     "text": [
      "[76, 5, 675, 777, 765, 76576, 5]\n"
     ]
    }
   ],
   "source": [
    "degerler = [76,5,675,777,765,76576,5]\n",
    "print(degerler)"
   ]
  },
  {
   "cell_type": "code",
   "execution_count": 159,
   "id": "5ab60324",
   "metadata": {},
   "outputs": [
    {
     "data": {
      "text/plain": [
       "{5, 76, 675, 765, 777, 76576}"
      ]
     },
     "execution_count": 159,
     "metadata": {},
     "output_type": "execute_result"
    }
   ],
   "source": [
    "set(degerler)"
   ]
  },
  {
   "cell_type": "markdown",
   "id": "785e24c3",
   "metadata": {},
   "source": [
    "# Tuple commend:"
   ]
  },
  {
   "cell_type": "code",
   "execution_count": 169,
   "id": "120e8a60",
   "metadata": {},
   "outputs": [
    {
     "name": "stdout",
     "output_type": "stream",
     "text": [
      "['a', 'b', 'c', 'd', 'e', 'a']\n",
      "('a', 'b', 'c', 'd', 'e', 'a')\n"
     ]
    }
   ],
   "source": [
    "liste = ['a', 'b', 'c', 'd','e','a']\n",
    "print(liste)\n",
    "tup = ('a', 'b', 'c', 'd','e','a')\n",
    "print(tup)"
   ]
  },
  {
   "cell_type": "code",
   "execution_count": 170,
   "id": "215b18b2",
   "metadata": {},
   "outputs": [
    {
     "name": "stdout",
     "output_type": "stream",
     "text": [
      "['a', 'b', 123, 'd', 'e', 'a']\n"
     ]
    }
   ],
   "source": [
    "liste[2] = 123\n",
    "print(liste)"
   ]
  },
  {
   "cell_type": "code",
   "execution_count": null,
   "id": "7f4c733a",
   "metadata": {},
   "outputs": [],
   "source": [
    "tup[3] = 12\n",
    "print(tup) #TypeError: 'tuple' object does not support item assignment. \n",
    "# tuple is used for immutable values ​​data."
   ]
  },
  {
   "cell_type": "code",
   "execution_count": 172,
   "id": "5c2d3674",
   "metadata": {},
   "outputs": [
    {
     "data": {
      "text/plain": [
       "2"
      ]
     },
     "execution_count": 172,
     "metadata": {},
     "output_type": "execute_result"
    }
   ],
   "source": [
    "tup.count('a')"
   ]
  },
  {
   "cell_type": "code",
   "execution_count": 173,
   "id": "37d0df33",
   "metadata": {},
   "outputs": [
    {
     "data": {
      "text/plain": [
       "0"
      ]
     },
     "execution_count": 173,
     "metadata": {},
     "output_type": "execute_result"
    }
   ],
   "source": [
    "tup.count(3) # 3 elemani listede yok o yüden 0 cevabi alinir."
   ]
  },
  {
   "cell_type": "code",
   "execution_count": 175,
   "id": "6ff7e83e",
   "metadata": {},
   "outputs": [
    {
     "data": {
      "text/plain": [
       "2"
      ]
     },
     "execution_count": 175,
     "metadata": {},
     "output_type": "execute_result"
    }
   ],
   "source": [
    "tup.index('c')"
   ]
  },
  {
   "cell_type": "code",
   "execution_count": 176,
   "id": "9497a7e3",
   "metadata": {},
   "outputs": [
    {
     "ename": "ValueError",
     "evalue": "tuple.index(x): x not in tuple",
     "output_type": "error",
     "traceback": [
      "\u001b[0;31m---------------------------------------------------------------------------\u001b[0m",
      "\u001b[0;31mValueError\u001b[0m                                Traceback (most recent call last)",
      "Cell \u001b[0;32mIn[176], line 1\u001b[0m\n\u001b[0;32m----> 1\u001b[0m tup\u001b[38;5;241m.\u001b[39mindex(\u001b[38;5;28;01mTrue\u001b[39;00m)\n",
      "\u001b[0;31mValueError\u001b[0m: tuple.index(x): x not in tuple"
     ]
    }
   ],
   "source": [
    "tup.index(True) #olmayan bir elemanin konumu ise error sebebidir."
   ]
  },
  {
   "cell_type": "markdown",
   "id": "aa486560",
   "metadata": {},
   "source": [
    "# Dictionary commend:"
   ]
  },
  {
   "cell_type": "code",
   "execution_count": 1,
   "id": "61471754",
   "metadata": {},
   "outputs": [
    {
     "name": "stdout",
     "output_type": "stream",
     "text": [
      "{'isim': 'Alperen', 'yas': 21, 'lokasyon': 'Ingolstad'}\n"
     ]
    }
   ],
   "source": [
    "dict1 = {'isim' : 'Alperen' , 'yas' : 21 , 'lokasyon' : 'Ingolstad' }\n",
    "print(dict1)"
   ]
  },
  {
   "cell_type": "code",
   "execution_count": null,
   "id": "0572ff0c",
   "metadata": {},
   "outputs": [],
   "source": [
    "# Code readability is very important in the industry.\n",
    "\n",
    "dict2 = {\n",
    "    'isim' : 'Alperen' ,\n",
    "    'yas' : 21,\n",
    "    'dogdugu_sehir' : 'Malatya',\n",
    "    'yasadigi_sehir' : 'Ingolstadt'\n",
    "    #'lokasyon' : 'Ingolstadt'    \n",
    "}\n",
    "\n",
    "print(dict2)"
   ]
  },
  {
   "cell_type": "code",
   "execution_count": null,
   "id": "bb1629a0",
   "metadata": {},
   "outputs": [],
   "source": [
    "dict3 = {\n",
    "    'isim' : 'Alperen' ,\n",
    "    'yas' : 21,\n",
    "    'lokasyon' : {\n",
    "        'dogdugu_sehir' : 'Malatya',\n",
    "        'yasadigi_sehir' : 'Ingolstadt'\n",
    "    }   \n",
    "}\n",
    "\n",
    "dict3\n",
    "\n",
    "\n"
   ]
  },
  {
   "cell_type": "code",
   "execution_count": 13,
   "id": "4dc79e52",
   "metadata": {},
   "outputs": [
    {
     "data": {
      "text/plain": [
       "21"
      ]
     },
     "execution_count": 13,
     "metadata": {},
     "output_type": "execute_result"
    }
   ],
   "source": [
    "dict2 ['yas']"
   ]
  },
  {
   "cell_type": "code",
   "execution_count": 14,
   "id": "2fed6c66",
   "metadata": {},
   "outputs": [
    {
     "data": {
      "text/plain": [
       "{'dogdugu_sehir': 'Malatya', 'yasadigi_sehir': 'Ingolstadt'}"
      ]
     },
     "execution_count": 14,
     "metadata": {},
     "output_type": "execute_result"
    }
   ],
   "source": [
    "dict3['lokasyon']"
   ]
  },
  {
   "cell_type": "code",
   "execution_count": 15,
   "id": "e6192c87",
   "metadata": {},
   "outputs": [
    {
     "data": {
      "text/plain": [
       "'Ingolstadt'"
      ]
     },
     "execution_count": 15,
     "metadata": {},
     "output_type": "execute_result"
    }
   ],
   "source": [
    "dict3['lokasyon']['yasadigi_sehir']"
   ]
  },
  {
   "cell_type": "code",
   "execution_count": 16,
   "id": "0b4f63ef",
   "metadata": {},
   "outputs": [
    {
     "data": {
      "text/plain": [
       "dict_keys(['isim', 'yas', 'dogdugu_sehir', 'yasadigi_sehir'])"
      ]
     },
     "execution_count": 16,
     "metadata": {},
     "output_type": "execute_result"
    }
   ],
   "source": [
    "dict2.keys()"
   ]
  },
  {
   "cell_type": "code",
   "execution_count": 17,
   "id": "a29f0326",
   "metadata": {},
   "outputs": [
    {
     "data": {
      "text/plain": [
       "dict_values(['Alperen', 21, 'Malatya', 'Ingolstadt'])"
      ]
     },
     "execution_count": 17,
     "metadata": {},
     "output_type": "execute_result"
    }
   ],
   "source": [
    "dict2.values()"
   ]
  },
  {
   "cell_type": "code",
   "execution_count": null,
   "id": "d8061ba7",
   "metadata": {},
   "outputs": [],
   "source": [
    "dict3.values()    "
   ]
  },
  {
   "cell_type": "code",
   "execution_count": 19,
   "id": "59d7b62c",
   "metadata": {},
   "outputs": [
    {
     "data": {
      "text/plain": [
       "dict_items([('isim', 'Alperen'), ('yas', 21), ('dogdugu_sehir', 'Malatya'), ('yasadigi_sehir', 'Ingolstadt')])"
      ]
     },
     "execution_count": 19,
     "metadata": {},
     "output_type": "execute_result"
    }
   ],
   "source": [
    "dict2.items()"
   ]
  },
  {
   "cell_type": "markdown",
   "id": "e2650bd1",
   "metadata": {},
   "source": [
    "# 2. KISIM "
   ]
  },
  {
   "cell_type": "markdown",
   "id": "607c8c71",
   "metadata": {},
   "source": [
    "# If Sorgulari"
   ]
  },
  {
   "cell_type": "code",
   "execution_count": 23,
   "id": "b00c983f",
   "metadata": {},
   "outputs": [
    {
     "name": "stdout",
     "output_type": "stream",
     "text": [
      "Semsiyeni Al!\n"
     ]
    }
   ],
   "source": [
    "hava_durumu = 'yagisli'\n",
    "\n",
    "if hava_durumu == 'yagisli':\n",
    "    print('Semsiyeni Al!')"
   ]
  },
  {
   "cell_type": "code",
   "execution_count": 25,
   "id": "b623d840",
   "metadata": {},
   "outputs": [
    {
     "name": "stdout",
     "output_type": "stream",
     "text": [
      "Sorun Yok\n"
     ]
    }
   ],
   "source": [
    "hava_durumu1 = 'karli'\n",
    "\n",
    "if hava_durumu1 == 'yagisli':\n",
    "    print('Dikkat!')\n",
    "else:\n",
    "    print('Sorun Yok')"
   ]
  },
  {
   "cell_type": "code",
   "execution_count": 27,
   "id": "cba30d1b",
   "metadata": {},
   "outputs": [
    {
     "name": "stdout",
     "output_type": "stream",
     "text": [
      "Cikmayiniz!\n"
     ]
    }
   ],
   "source": [
    "hava_durumu2 = 'rüzgarli'\n",
    "\n",
    "if hava_durumu2 == 'yagisli':\n",
    "    print('Dikkat!')\n",
    "elif hava_durumu2 == 'rüzgarli':\n",
    "    print('Cikmayiniz!')\n",
    "else:\n",
    "    print('Sorun Yok')"
   ]
  },
  {
   "cell_type": "code",
   "execution_count": 29,
   "id": "909fd0fd",
   "metadata": {},
   "outputs": [
    {
     "name": "stdout",
     "output_type": "stream",
     "text": [
      "Girilemez!!!!\n"
     ]
    }
   ],
   "source": [
    "yas = 17\n",
    "\n",
    "if yas > 18 :\n",
    "    print('Girilebilir!')\n",
    "else:\n",
    "    print('Girilemez!!!!')"
   ]
  },
  {
   "cell_type": "code",
   "execution_count": 32,
   "id": "9ff816fb",
   "metadata": {},
   "outputs": [
    {
     "name": "stdout",
     "output_type": "stream",
     "text": [
      "Harf Eklendi\n",
      "['a', 'b', 'c', 'd']\n"
     ]
    }
   ],
   "source": [
    "liste = ['a','b','c']\n",
    "hedef_harf = 'd'\n",
    "\n",
    "if hedef_harf in liste:\n",
    "    print('bulunmakta')\n",
    "else:\n",
    "    liste.append(hedef_harf)\n",
    "    print('Harf Eklendi')\n",
    "    print(liste)"
   ]
  },
  {
   "cell_type": "code",
   "execution_count": 33,
   "id": "35e860bb",
   "metadata": {},
   "outputs": [
    {
     "name": "stdout",
     "output_type": "stream",
     "text": [
      "Harf Eklendi\n",
      "Güncel Liste ['a', 'b', 'c', 'd']\n"
     ]
    }
   ],
   "source": [
    "liste = ['a','b','c']\n",
    "hedef_harf = 'd'\n",
    "\n",
    "if hedef_harf in liste:\n",
    "    print('bulunmakta')\n",
    "else:\n",
    "    liste.append(hedef_harf)\n",
    "    print('Harf Eklendi')\n",
    "    print('Güncel Liste {}' .format(liste))"
   ]
  },
  {
   "cell_type": "code",
   "execution_count": 35,
   "id": "e9aae7be",
   "metadata": {},
   "outputs": [
    {
     "name": "stdout",
     "output_type": "stream",
     "text": [
      "buldum ama ilk konumda degil\n"
     ]
    }
   ],
   "source": [
    "if (hedef_harf in liste) and (hedef_harf == liste[0]):\n",
    "    print('buldum ve ilk harf konumunda')\n",
    "elif hedef_harf in liste:\n",
    "    print('buldum ama ilk konumda degil')\n",
    "else:\n",
    "    liste.append(hedef_harf)\n",
    "    \n",
    "    print('Harf Eklendi')\n",
    "    print('Güncel Liste {}' .format(liste))\n",
    "\n",
    "    \n",
    "    \n",
    "    "
   ]
  },
  {
   "cell_type": "code",
   "execution_count": 37,
   "id": "fb189de1",
   "metadata": {},
   "outputs": [
    {
     "name": "stdout",
     "output_type": "stream",
     "text": [
      "buldum ve ilk harf konumunda\n"
     ]
    }
   ],
   "source": [
    "if hedef_harf in liste:\n",
    "    print('buldum ve ilk harf konumunda')\n",
    "elif (hedef_harf in liste) and (hedef_harf == liste[0]):\n",
    "    print('buldum ama ilk konumda degil')\n",
    "else:\n",
    "    liste.append(hedef_harf)\n",
    "    \n",
    "    print('Harf Eklendi')\n",
    "    print('Güncel Liste {}' .format(liste))"
   ]
  },
  {
   "cell_type": "markdown",
   "id": "93b54338",
   "metadata": {},
   "source": [
    "# For Döngüleri"
   ]
  },
  {
   "cell_type": "code",
   "execution_count": 38,
   "id": "514b3aae",
   "metadata": {},
   "outputs": [],
   "source": [
    "# for döngülerinin calisma prensibi:\n",
    "# for ...(degisken)... in ...iterable... (liste, koleksiyon)\n",
    "#             .....(buraya yazilani yap)....."
   ]
  },
  {
   "cell_type": "code",
   "execution_count": 73,
   "id": "e68736f8",
   "metadata": {},
   "outputs": [],
   "source": [
    "yorum_birakanlar = ['Alperen Kabil', 'Ahmet Seydan', 'Ali Sezgin', 'Mehmet Kamci', 'Sinan Demir']"
   ]
  },
  {
   "cell_type": "code",
   "execution_count": 74,
   "id": "29f15eb4",
   "metadata": {},
   "outputs": [
    {
     "name": "stdout",
     "output_type": "stream",
     "text": [
      "Alperen Kabil\n",
      "Ahmet Seydan\n",
      "Ali Sezgin\n",
      "Mehmet Kamci\n",
      "Sinan Demir\n"
     ]
    }
   ],
   "source": [
    "for kullanicilar in yorum_birakanlar:\n",
    "    print(kullanicilar)"
   ]
  },
  {
   "cell_type": "code",
   "execution_count": 66,
   "id": "b6d2e7d4",
   "metadata": {},
   "outputs": [
    {
     "name": "stdout",
     "output_type": "stream",
     "text": [
      "1 Alperen Kabil\n",
      "2 Ahmet Seydan\n",
      "3 Ali Sezgin\n",
      "4 Mehmet Kamci\n",
      "5 Sinan Demir\n"
     ]
    }
   ],
   "source": [
    "kullanici_sayisi = 0\n",
    "\n",
    "for kullanicilar in yorum_birakanlar:\n",
    "    kullanici_sayisi = kullanici_sayisi + 1\n",
    "    print(kullanici_sayisi, kullanicilar)"
   ]
  },
  {
   "cell_type": "code",
   "execution_count": 67,
   "id": "d60c1190",
   "metadata": {},
   "outputs": [],
   "source": [
    "ad, soyad = yorum_birakanlar[0].split()[0], yorum_birakanlar[0].split()[1]"
   ]
  },
  {
   "cell_type": "code",
   "execution_count": 68,
   "id": "ba870b93",
   "metadata": {},
   "outputs": [
    {
     "name": "stdout",
     "output_type": "stream",
     "text": [
      "Alperen\n",
      "Kabil\n"
     ]
    }
   ],
   "source": [
    "ad = yorum_birakanlar[0].split()[0]\n",
    "soyad =  yorum_birakanlar[0].split()[1]\n",
    "\n",
    "print(ad)\n",
    "print(soyad)"
   ]
  },
  {
   "cell_type": "code",
   "execution_count": 78,
   "id": "317058fb",
   "metadata": {},
   "outputs": [
    {
     "name": "stdout",
     "output_type": "stream",
     "text": [
      "1. Kullanicinin Adi Alperen ve Soyadi Kabil\n",
      "2. Kullanicinin Adi Ahmet ve Soyadi Seydan\n",
      "3. Kullanicinin Adi Ali ve Soyadi Sezgin\n",
      "4. Kullanicinin Adi Mehmet ve Soyadi Kamci\n",
      "5. Kullanicinin Adi Sinan ve Soyadi Demir\n"
     ]
    }
   ],
   "source": [
    "kullanici_sayisi = 0 \n",
    "\n",
    "for kullanicilar in yorum_birakanlar:\n",
    "    kullanici_sayisi = kullanici_sayisi + 1\n",
    "    ad, soyad = kullanicilar.split()[0], kullanicilar.split()[1]\n",
    "    print('{0}. Kullanicinin Adi {1} ve Soyadi {2}' .format(kullanici_sayisi, ad ,soyad))"
   ]
  },
  {
   "cell_type": "code",
   "execution_count": 76,
   "id": "f248fb4f",
   "metadata": {},
   "outputs": [
    {
     "name": "stdout",
     "output_type": "stream",
     "text": [
      "1. Moderatörün Adi Alperen ve Soyadi Kabil\n",
      "1. Kullanicinin Adi Ahmet ve Soyadi Seydan\n",
      "2. Kullanicinin Adi Ali ve Soyadi Sezgin\n",
      "3. Kullanicinin Adi Mehmet ve Soyadi Kamci\n",
      "4. Kullanicinin Adi Sinan ve Soyadi Demir\n"
     ]
    }
   ],
   "source": [
    "moderatör = 'Alperen Kabil'\n",
    "\n",
    "moderatör_sayisi = 0 \n",
    "kullanici_sayisi = 0 \n",
    "\n",
    "for kullanicilar in yorum_birakanlar:\n",
    "    ad, soyad = kullanicilar.split()[0], kullanicilar.split()[1]\n",
    "    \n",
    "    if(kullanicilar == moderatör):\n",
    "        moderatör_sayisi += 1 #moderatör_sayisi = moderatör_sayisi + 1\n",
    "        print('{0}. Moderatörün Adi {1} ve Soyadi {2}' .format(moderatör_sayisi, ad ,soyad))\n",
    "    else:\n",
    "        kullanici_sayisi += 1\n",
    "        print('{0}. Kullanicinin Adi {1} ve Soyadi {2}' .format(kullanici_sayisi, ad ,soyad))\n"
   ]
  },
  {
   "cell_type": "markdown",
   "id": "4312cbfd",
   "metadata": {},
   "source": [
    "# Diger Iterable Objelerde for Döngüleri"
   ]
  },
  {
   "cell_type": "code",
   "execution_count": 80,
   "id": "0fc349fd",
   "metadata": {},
   "outputs": [
    {
     "name": "stdout",
     "output_type": "stream",
     "text": [
      "1\n",
      "3\n",
      "5\n",
      "7\n"
     ]
    }
   ],
   "source": [
    "tup1 = (1,3,5,7)\n",
    "for sayi in tup1:\n",
    "    print(sayi)"
   ]
  },
  {
   "cell_type": "code",
   "execution_count": 81,
   "id": "5e0ec003",
   "metadata": {},
   "outputs": [
    {
     "name": "stdout",
     "output_type": "stream",
     "text": [
      "1\n",
      "3\n"
     ]
    }
   ],
   "source": [
    "liste1 = [[1,2],[3,4]] # listeler arasi kac eleman varsa o kadar degiskeni for da tanimlamak gerekir. Ornegin 3 e 3, 4 e 4 gibi.\n",
    "\n",
    "for x,y in liste1:\n",
    "    print(x)"
   ]
  },
  {
   "cell_type": "code",
   "execution_count": 82,
   "id": "6a891234",
   "metadata": {},
   "outputs": [
    {
     "name": "stdout",
     "output_type": "stream",
     "text": [
      "2\n",
      "4\n",
      "6\n",
      "b\n"
     ]
    }
   ],
   "source": [
    "liste2 = [[1,2],[3,4],[5,6],['a','b']]\n",
    "\n",
    "for x,y in liste2:\n",
    "    print(y)"
   ]
  },
  {
   "cell_type": "code",
   "execution_count": 83,
   "id": "4a66e2f4",
   "metadata": {},
   "outputs": [
    {
     "name": "stdout",
     "output_type": "stream",
     "text": [
      "2\n",
      "12\n",
      "30\n"
     ]
    }
   ],
   "source": [
    "liste3 = [[1,2],[3,4],[5,6]]\n",
    "\n",
    "for x,y in liste3:\n",
    "    print(x*y)"
   ]
  },
  {
   "cell_type": "code",
   "execution_count": 97,
   "id": "60fb25c7",
   "metadata": {},
   "outputs": [
    {
     "name": "stdout",
     "output_type": "stream",
     "text": [
      "dict_items([('ad', 'Naz'), ('soyad', 'Yagcioglu')])\n"
     ]
    }
   ],
   "source": [
    "kullanici1 = {\n",
    "    'ad': 'Naz',\n",
    "    'soyad': 'Yagcioglu'\n",
    "}\n",
    "\n",
    "print(kullanici1.items())\n"
   ]
  },
  {
   "cell_type": "code",
   "execution_count": 90,
   "id": "c05ea3bf",
   "metadata": {},
   "outputs": [
    {
     "name": "stdout",
     "output_type": "stream",
     "text": [
      "Key: ad \t Value: Naz\n",
      "Key: soyad \t Value: Yagcioglu\n"
     ]
    }
   ],
   "source": [
    "for k, v in kullanici1.items():      #in den sonraki kullanima dikkat ediniz. \n",
    "    print('Key: {} \\t Value: {}' .format(k,v))"
   ]
  },
  {
   "cell_type": "code",
   "execution_count": 98,
   "id": "10ae78c2",
   "metadata": {},
   "outputs": [
    {
     "name": "stdout",
     "output_type": "stream",
     "text": [
      "Key: ad\n",
      "Key: soyad\n"
     ]
    }
   ],
   "source": [
    "for k in kullanici1.keys():\n",
    "    print('Key: {}' .format(k))"
   ]
  },
  {
   "cell_type": "markdown",
   "id": "28bb52d7",
   "metadata": {},
   "source": [
    "# While Döngüleri"
   ]
  },
  {
   "cell_type": "code",
   "execution_count": 100,
   "id": "a255dfd0",
   "metadata": {},
   "outputs": [],
   "source": [
    "#Kullanim Yapisi :    \n",
    "# while <sart dogruyken>:\n",
    "#       <burda yazilani yap>"
   ]
  },
  {
   "cell_type": "code",
   "execution_count": 4,
   "id": "444e79c6",
   "metadata": {},
   "outputs": [],
   "source": [
    "# Asagidaki ornekte g,orüldügü gibi while döngülerinde sarti kisitlicak bir hareket yapilmasi gerekir. \n",
    "#Örnegin x += 1 derken alt sinir belirlenir ve döngüden cikilmasi saglanir."
   ]
  },
  {
   "cell_type": "code",
   "execution_count": 5,
   "id": "39cc1778",
   "metadata": {},
   "outputs": [
    {
     "name": "stdout",
     "output_type": "stream",
     "text": [
      "0 degeri 10 dan kücüktür.\n",
      "1 degeri 10 dan kücüktür.\n",
      "2 degeri 10 dan kücüktür.\n",
      "3 degeri 10 dan kücüktür.\n",
      "4 degeri 10 dan kücüktür.\n",
      "5 degeri 10 dan kücüktür.\n",
      "6 degeri 10 dan kücüktür.\n",
      "7 degeri 10 dan kücüktür.\n",
      "8 degeri 10 dan kücüktür.\n",
      "9 degeri 10 dan kücüktür.\n"
     ]
    }
   ],
   "source": [
    "x = 0 \n",
    "\n",
    "while x < 10:\n",
    "    print('{} degeri 10 dan kücüktür.'.format(x))  \n",
    "    x += 1"
   ]
  },
  {
   "cell_type": "code",
   "execution_count": 99,
   "id": "353f1792",
   "metadata": {},
   "outputs": [],
   "source": [
    "#Kullanim Yapisi \n",
    "# while <sart dogruyken>:\n",
    "#       <burda yazilani yap>\n",
    "# else: \n",
    "#     <burda yazilani yap>"
   ]
  },
  {
   "cell_type": "code",
   "execution_count": 6,
   "id": "5302114d",
   "metadata": {},
   "outputs": [
    {
     "name": "stdout",
     "output_type": "stream",
     "text": [
      "0 degeri 10 dan kücüktür.\n",
      "1 degeri 10 dan kücüktür.\n",
      "2 degeri 10 dan kücüktür.\n",
      "3 degeri 10 dan kücüktür.\n",
      "4 degeri 10 dan kücüktür.\n",
      "5 degeri 10 dan kücüktür.\n",
      "6 degeri 10 dan kücüktür.\n",
      "7 degeri 10 dan kücüktür.\n",
      "8 degeri 10 dan kücüktür.\n",
      "9 degeri 10 dan kücüktür.\n",
      "10 degeri 10 dan kücük degildir.\n"
     ]
    }
   ],
   "source": [
    "x = 0 \n",
    "\n",
    "while x < 10:\n",
    "    print('{} degeri 10 dan kücüktür.'.format(x))  \n",
    "    x += 1\n",
    "else: \n",
    "    print('{} degeri 10 dan kücük degildir.'.format(x)) # 10 degeri icin else durumu yaziliyor ve koddan cikiliyor. \n"
   ]
  },
  {
   "cell_type": "code",
   "execution_count": 9,
   "id": "ee49916e",
   "metadata": {},
   "outputs": [
    {
     "name": "stdout",
     "output_type": "stream",
     "text": [
      "720\n"
     ]
    }
   ],
   "source": [
    "#Faktöriyel\n",
    "\n",
    "sayi = 6 \n",
    "sonuc = 1\n",
    "\n",
    "while sayi > 0:\n",
    "    sonuc = sayi * sonuc #6 * 5 * 4 * 3 * 2 * 1\n",
    "    sayi -= 1 # 5,4,3,2,1\n",
    "    \n",
    "print(sonuc)"
   ]
  },
  {
   "cell_type": "code",
   "execution_count": 10,
   "id": "bf79bf79",
   "metadata": {},
   "outputs": [
    {
     "name": "stdout",
     "output_type": "stream",
     "text": [
      "6\n",
      "30\n",
      "120\n",
      "360\n",
      "720\n",
      "720\n"
     ]
    }
   ],
   "source": [
    "sayi = 6 \n",
    "sonuc = 1\n",
    "\n",
    "while sayi > 0:\n",
    "    sonuc = sayi * sonuc #6 * 5 * 4 * 3 * 2 * 1\n",
    "    sayi -= 1 # 5,4,3,2,1\n",
    "    print(sonuc)"
   ]
  },
  {
   "cell_type": "markdown",
   "id": "73fa309b",
   "metadata": {},
   "source": [
    "# Range"
   ]
  },
  {
   "cell_type": "code",
   "execution_count": 11,
   "id": "f6292067",
   "metadata": {},
   "outputs": [
    {
     "data": {
      "text/plain": [
       "range(0, 10)"
      ]
     },
     "execution_count": 11,
     "metadata": {},
     "output_type": "execute_result"
    }
   ],
   "source": [
    "#Range bi sinirlama gelmey ise ototmatik sifirdan itibaren tam sayilari alir.\n",
    "\n",
    "range(10)"
   ]
  },
  {
   "cell_type": "code",
   "execution_count": 12,
   "id": "62e2113f",
   "metadata": {},
   "outputs": [
    {
     "data": {
      "text/plain": [
       "[0, 1, 2, 3, 4, 5, 6, 7, 8, 9]"
      ]
     },
     "execution_count": 12,
     "metadata": {},
     "output_type": "execute_result"
    }
   ],
   "source": [
    "#range ve list birbirlerine cevrilebilirler.\n",
    "\n",
    "list(range(10))"
   ]
  },
  {
   "cell_type": "code",
   "execution_count": 13,
   "id": "2985f4aa",
   "metadata": {},
   "outputs": [
    {
     "data": {
      "text/plain": [
       "[0, 1, 2, 3, 4, 5, 6, 7, 8, 9]"
      ]
     },
     "execution_count": 13,
     "metadata": {},
     "output_type": "execute_result"
    }
   ],
   "source": [
    "# liste ye donustumre isleminin daha profosyonalce kullanimi asagidadir.\n",
    "\n",
    "[*range(10)]"
   ]
  },
  {
   "cell_type": "code",
   "execution_count": 15,
   "id": "aebbfb60",
   "metadata": {},
   "outputs": [
    {
     "data": {
      "text/plain": [
       "[2, 3, 4, 5, 6]"
      ]
     },
     "execution_count": 15,
     "metadata": {},
     "output_type": "execute_result"
    }
   ],
   "source": [
    "[*range(2,7)]"
   ]
  },
  {
   "cell_type": "code",
   "execution_count": 16,
   "id": "8e40969f",
   "metadata": {},
   "outputs": [
    {
     "data": {
      "text/plain": [
       "[3, 5, 7]"
      ]
     },
     "execution_count": 16,
     "metadata": {},
     "output_type": "execute_result"
    }
   ],
   "source": [
    "[*range(3,8,2)]"
   ]
  },
  {
   "cell_type": "code",
   "execution_count": 17,
   "id": "8d68afb7",
   "metadata": {},
   "outputs": [
    {
     "name": "stdout",
     "output_type": "stream",
     "text": [
      "0\n",
      "1\n",
      "2\n",
      "3\n",
      "4\n",
      "5\n",
      "6\n",
      "7\n",
      "8\n",
      "9\n"
     ]
    }
   ],
   "source": [
    "for sayi in range(10):\n",
    "    print(sayi)"
   ]
  },
  {
   "cell_type": "markdown",
   "id": "ee9183b9",
   "metadata": {},
   "source": [
    "# Enumerate"
   ]
  },
  {
   "cell_type": "code",
   "execution_count": 19,
   "id": "a7a2bf3a",
   "metadata": {},
   "outputs": [
    {
     "name": "stdout",
     "output_type": "stream",
     "text": [
      "(0, 'a')\n",
      "(1, 'b')\n",
      "(2, 'c')\n",
      "(3, 'd')\n",
      "(4, 'e')\n"
     ]
    }
   ],
   "source": [
    "harfler = ['a', 'b', 'c', 'd', 'e']       #enumerate index konumlariyla elemanlari esler.\n",
    "\n",
    "for harf in enumerate(harfler):\n",
    "    print(harf)"
   ]
  },
  {
   "cell_type": "code",
   "execution_count": 21,
   "id": "6d2a8ba3",
   "metadata": {},
   "outputs": [
    {
     "name": "stdout",
     "output_type": "stream",
     "text": [
      "1. harf: a\n",
      "2. harf: b\n",
      "3. harf: c\n",
      "4. harf: d\n",
      "5. harf: e\n"
     ]
    }
   ],
   "source": [
    "for index, harf in enumerate(harfler):\n",
    "    print('{}. harf: {}' .format (index+1,harf))"
   ]
  },
  {
   "cell_type": "markdown",
   "id": "00b015da",
   "metadata": {},
   "source": [
    "# Zip"
   ]
  },
  {
   "cell_type": "code",
   "execution_count": 23,
   "id": "ef5f7df8",
   "metadata": {},
   "outputs": [
    {
     "name": "stdout",
     "output_type": "stream",
     "text": [
      "('TR', 1)\n",
      "('FR', 2)\n",
      "('DE', 3)\n"
     ]
    }
   ],
   "source": [
    "ulkeler = ['TR' , 'FR' , 'DE']\n",
    "siralama = range(1,4)\n",
    "\n",
    "for ülke in zip(ulkeler, siralama):\n",
    "    print(ülke)"
   ]
  },
  {
   "cell_type": "code",
   "execution_count": 24,
   "id": "1cc05cb5",
   "metadata": {},
   "outputs": [
    {
     "name": "stdout",
     "output_type": "stream",
     "text": [
      "TR\n",
      "FR\n",
      "DE\n"
     ]
    }
   ],
   "source": [
    "for ülke, siralama in zip(ulkeler, siralama):\n",
    "    print(ülke)"
   ]
  },
  {
   "cell_type": "markdown",
   "id": "ca0b490c",
   "metadata": {},
   "source": [
    "# Break"
   ]
  },
  {
   "cell_type": "code",
   "execution_count": 30,
   "id": "86de45ce",
   "metadata": {},
   "outputs": [
    {
     "name": "stdout",
     "output_type": "stream",
     "text": [
      "c harfi 2. indexte!\n"
     ]
    }
   ],
   "source": [
    "harfler = ['a', 'b', 'c', 'd', 'e']*10        #harfi bul islemden cik seklinde komut verilir break ile.\n",
    "\n",
    "for index, harf in enumerate(harfler):\n",
    "    if harf == 'c':\n",
    "        print('{} harfi {}. indexte!' .format(harf,index))\n",
    "        break"
   ]
  },
  {
   "cell_type": "markdown",
   "id": "882545e4",
   "metadata": {},
   "source": [
    "# Continue"
   ]
  },
  {
   "cell_type": "code",
   "execution_count": 31,
   "id": "09e250ba",
   "metadata": {},
   "outputs": [
    {
     "name": "stdout",
     "output_type": "stream",
     "text": [
      "1\n",
      "3\n",
      "5\n"
     ]
    }
   ],
   "source": [
    "for sayi in range(1,6):                                       #continue devam et bekleme yapma seklinde koda etki eder o sayilari isleme almaz.\n",
    "    if sayi%2==0: #cift sayi sorgulama mantigi.               #örnekte görüldügü gibi cift sayilar isleme dahil edilmiyor.\n",
    "        continue\n",
    "    print(sayi)"
   ]
  },
  {
   "cell_type": "code",
   "execution_count": 33,
   "id": "b7b1cbc0",
   "metadata": {},
   "outputs": [
    {
     "name": "stdout",
     "output_type": "stream",
     "text": [
      "1\n",
      "3\n",
      "5\n"
     ]
    }
   ],
   "source": [
    "for sayi in range(1,6): \n",
    "    if sayi%2!=0:\n",
    "        print(sayi)"
   ]
  },
  {
   "cell_type": "markdown",
   "id": "b5f02568",
   "metadata": {},
   "source": [
    "# Pass"
   ]
  },
  {
   "cell_type": "code",
   "execution_count": 34,
   "id": "8ecf2954",
   "metadata": {},
   "outputs": [
    {
     "name": "stdout",
     "output_type": "stream",
     "text": [
      "1\n",
      "3\n",
      "5\n"
     ]
    }
   ],
   "source": [
    "for sayi in range(1,6):              #böyle bir durum görürsen burayi gec anlamindadir.\n",
    "    if sayi%2==0:\n",
    "        pass\n",
    "    else:\n",
    "        print(sayi)"
   ]
  },
  {
   "cell_type": "code",
   "execution_count": 37,
   "id": "d01eee30",
   "metadata": {},
   "outputs": [
    {
     "name": "stdout",
     "output_type": "stream",
     "text": [
      "Hey\n"
     ]
    }
   ],
   "source": [
    "if 8 < sayi:\n",
    "    pass\n",
    "else:\n",
    "    print('Hey')"
   ]
  },
  {
   "cell_type": "markdown",
   "id": "7b699ea0",
   "metadata": {},
   "source": [
    "# 3. Kisim "
   ]
  },
  {
   "cell_type": "markdown",
   "id": "b1065f65",
   "metadata": {},
   "source": [
    "# Fonksiyonlar"
   ]
  },
  {
   "cell_type": "code",
   "execution_count": 53,
   "id": "62cdc269",
   "metadata": {},
   "outputs": [],
   "source": [
    "def bes_bastir():       # genelde iyi kod gelistirmede docstring denen \"\"\"  arasina fonksiyonun ne islev yaptigi aciklanir.\n",
    "                                                                    #  \"\"\" \n",
    "    print(5)"
   ]
  },
  {
   "cell_type": "code",
   "execution_count": 54,
   "id": "d759dc67",
   "metadata": {},
   "outputs": [
    {
     "name": "stdout",
     "output_type": "stream",
     "text": [
      "5\n"
     ]
    }
   ],
   "source": [
    "bes_bastir()"
   ]
  },
  {
   "cell_type": "markdown",
   "id": "0cf79dac",
   "metadata": {},
   "source": [
    "# Fonksiyonlarda print ve return farki"
   ]
  },
  {
   "cell_type": "code",
   "execution_count": 65,
   "id": "c023d8f9",
   "metadata": {},
   "outputs": [],
   "source": [
    "# fonkisyonlarda ya ekrana bir sey bastirilir(print) ya da ekrana bir sey dondurulur (return).\n",
    "\n",
    "def bes_döndür():\n",
    "    return 5"
   ]
  },
  {
   "cell_type": "code",
   "execution_count": 66,
   "id": "dbedf75e",
   "metadata": {},
   "outputs": [
    {
     "name": "stdout",
     "output_type": "stream",
     "text": [
      "5\n",
      "None\n"
     ]
    }
   ],
   "source": [
    "a = bes_bastir()    #bes_bastir() fonksiyonu icerisinde zaten bir print komutu oldugu icin otomatik yazlir.\n",
    "print(a)"
   ]
  },
  {
   "cell_type": "code",
   "execution_count": 67,
   "id": "8285d593",
   "metadata": {},
   "outputs": [
    {
     "name": "stdout",
     "output_type": "stream",
     "text": [
      "5\n"
     ]
    }
   ],
   "source": [
    "b = bes_döndür()    \n",
    "print(b)"
   ]
  },
  {
   "cell_type": "markdown",
   "id": "fa2f88cc",
   "metadata": {},
   "source": [
    "# Fonksiyonlarda Argümanlar"
   ]
  },
  {
   "cell_type": "code",
   "execution_count": 72,
   "id": "da7c6114",
   "metadata": {},
   "outputs": [
    {
     "data": {
      "text/plain": [
       "100"
      ]
     },
     "execution_count": 72,
     "metadata": {},
     "output_type": "execute_result"
    }
   ],
   "source": [
    "def sayi_döndür(sayi):\n",
    "    return sayi\n",
    "\n",
    "sayi_döndür(100)"
   ]
  },
  {
   "cell_type": "code",
   "execution_count": 73,
   "id": "2cca6249",
   "metadata": {},
   "outputs": [
    {
     "data": {
      "text/plain": [
       "200"
      ]
     },
     "execution_count": 73,
     "metadata": {},
     "output_type": "execute_result"
    }
   ],
   "source": [
    "def sayi_döndür1(sayi = 200):\n",
    "    return sayi\n",
    "\n",
    "sayi_döndür1()    # parantez icine herhangi bir deger verilmedigi sürece default sayiyi otomatik atar(200). "
   ]
  },
  {
   "cell_type": "code",
   "execution_count": 85,
   "id": "34a029e4",
   "metadata": {},
   "outputs": [],
   "source": [
    "def buyuk_sayi_dondur(a,b):\n",
    "    if a>b:\n",
    "        return a\n",
    "    elif b>a:\n",
    "        return b"
   ]
  },
  {
   "cell_type": "code",
   "execution_count": 86,
   "id": "604fcf6b",
   "metadata": {},
   "outputs": [
    {
     "data": {
      "text/plain": [
       "10"
      ]
     },
     "execution_count": 86,
     "metadata": {},
     "output_type": "execute_result"
    }
   ],
   "source": [
    "buyuk_sayi_dondur(5,10)"
   ]
  },
  {
   "cell_type": "code",
   "execution_count": 91,
   "id": "42e663fa",
   "metadata": {},
   "outputs": [],
   "source": [
    "def metin_yazdir(a,b):\n",
    "    büyük_sayi = buyuk_sayi_dondur(a,b)\n",
    "    sablon_metin = '{} daha büyük sayidir.' .format(büyük_sayi)\n",
    "    print(sablon_metin)"
   ]
  },
  {
   "cell_type": "code",
   "execution_count": 92,
   "id": "00bb62c0",
   "metadata": {},
   "outputs": [
    {
     "name": "stdout",
     "output_type": "stream",
     "text": [
      "10 daha büyük sayidir.\n"
     ]
    }
   ],
   "source": [
    "metin_yazdir(5,10)"
   ]
  },
  {
   "cell_type": "markdown",
   "id": "89eeba82",
   "metadata": {},
   "source": [
    "# Fonksiyonlar Birden Fazla Sonuc Döndürebilirler"
   ]
  },
  {
   "cell_type": "code",
   "execution_count": 94,
   "id": "c8bfcea4",
   "metadata": {},
   "outputs": [
    {
     "data": {
      "text/plain": [
       "['Alperen', 'Kabil']"
      ]
     },
     "execution_count": 94,
     "metadata": {},
     "output_type": "execute_result"
    }
   ],
   "source": [
    "\"Alperen Kabil\".split()"
   ]
  },
  {
   "cell_type": "code",
   "execution_count": 96,
   "id": "fcfbe494",
   "metadata": {},
   "outputs": [],
   "source": [
    "def isim_soyisim_ayirma(isim_soyisim):\n",
    "    isim = isim_soyisim.split()[0]\n",
    "    soyisim = isim_soyisim.split()[1]\n",
    "    return isim , soyisim"
   ]
  },
  {
   "cell_type": "code",
   "execution_count": 97,
   "id": "e925bd3b",
   "metadata": {},
   "outputs": [
    {
     "data": {
      "text/plain": [
       "('Alperen', 'Kabil')"
      ]
     },
     "execution_count": 97,
     "metadata": {},
     "output_type": "execute_result"
    }
   ],
   "source": [
    "isim_soyisim_ayirma('Alperen Kabil')"
   ]
  },
  {
   "cell_type": "code",
   "execution_count": 98,
   "id": "a7ab3b64",
   "metadata": {},
   "outputs": [
    {
     "name": "stdout",
     "output_type": "stream",
     "text": [
      "Alperen\n",
      "Kabil\n"
     ]
    }
   ],
   "source": [
    "a,b = isim_soyisim_ayirma('Alperen Kabil')\n",
    "print(a)\n",
    "print(b)"
   ]
  },
  {
   "cell_type": "markdown",
   "id": "5a939924",
   "metadata": {},
   "source": [
    "# *args Argümani"
   ]
  },
  {
   "cell_type": "code",
   "execution_count": 99,
   "id": "aec680dc",
   "metadata": {},
   "outputs": [
    {
     "data": {
      "text/plain": [
       "'Alperen Kabil'"
      ]
     },
     "execution_count": 99,
     "metadata": {},
     "output_type": "execute_result"
    }
   ],
   "source": [
    "\" \".join(['Alperen', 'Kabil'])"
   ]
  },
  {
   "cell_type": "code",
   "execution_count": 100,
   "id": "2b58804e",
   "metadata": {},
   "outputs": [],
   "source": [
    "def isim_soyisim_birlestir(isim, soyisim):\n",
    "    return \" \".join([isim, soyisim])"
   ]
  },
  {
   "cell_type": "code",
   "execution_count": 102,
   "id": "7efaad92",
   "metadata": {},
   "outputs": [
    {
     "data": {
      "text/plain": [
       "'Ucan Kacan'"
      ]
     },
     "execution_count": 102,
     "metadata": {},
     "output_type": "execute_result"
    }
   ],
   "source": [
    "isim_soyisim_birlestir('Ucan', 'Kacan')\n",
    "                      "
   ]
  },
  {
   "cell_type": "code",
   "execution_count": 104,
   "id": "ae0e3f84",
   "metadata": {},
   "outputs": [],
   "source": [
    "#coklu isimlerde elemanlarda yani listelemelerde '*args' ifadesi kullanilir.\n",
    "\n",
    "def isim_soyisim_birlestir1(*args):\n",
    "    return \" \".join(args)"
   ]
  },
  {
   "cell_type": "code",
   "execution_count": 105,
   "id": "c2b2c80e",
   "metadata": {},
   "outputs": [
    {
     "data": {
      "text/plain": [
       "'Kamil Alperen Kabil'"
      ]
     },
     "execution_count": 105,
     "metadata": {},
     "output_type": "execute_result"
    }
   ],
   "source": [
    "isim_soyisim_birlestir1('Kamil', 'Alperen', 'Kabil')"
   ]
  },
  {
   "cell_type": "code",
   "execution_count": 106,
   "id": "887d43fa",
   "metadata": {},
   "outputs": [],
   "source": [
    "def göbek_adi_yazdir(**kwargs):\n",
    "    if 'göbekadi' in kwargs:\n",
    "        print(kwargs['göbekadi'])\n",
    "    else:\n",
    "        print('Göbekadi yok!')"
   ]
  },
  {
   "cell_type": "code",
   "execution_count": 108,
   "id": "f82e5c51",
   "metadata": {},
   "outputs": [
    {
     "name": "stdout",
     "output_type": "stream",
     "text": [
      "Koma\n"
     ]
    }
   ],
   "source": [
    "göbek_adi_yazdir(adi = 'Alperen', soyadi = 'Kabil', göbekadi = 'Koma')"
   ]
  },
  {
   "cell_type": "code",
   "execution_count": 110,
   "id": "ba48e2f4",
   "metadata": {},
   "outputs": [
    {
     "name": "stdout",
     "output_type": "stream",
     "text": [
      "Göbekadi yok!\n"
     ]
    }
   ],
   "source": [
    "göbek_adi_yazdir(adi = 'Alperen', soyadi = 'Kabil')"
   ]
  },
  {
   "cell_type": "markdown",
   "id": "7c6f136f",
   "metadata": {},
   "source": [
    "# Map, Filter and Lambda Expressions:"
   ]
  },
  {
   "cell_type": "code",
   "execution_count": 28,
   "id": "1bd67830",
   "metadata": {},
   "outputs": [],
   "source": [
    "def karesini_al(x):\n",
    "    return x**2"
   ]
  },
  {
   "cell_type": "code",
   "execution_count": 29,
   "id": "1f0c61af",
   "metadata": {},
   "outputs": [
    {
     "data": {
      "text/plain": [
       "36"
      ]
     },
     "execution_count": 29,
     "metadata": {},
     "output_type": "execute_result"
    }
   ],
   "source": [
    "karesini_al(6)"
   ]
  },
  {
   "cell_type": "code",
   "execution_count": 38,
   "id": "ab9be6d0",
   "metadata": {},
   "outputs": [
    {
     "data": {
      "text/plain": [
       "[1, 2, 3, 4]"
      ]
     },
     "execution_count": 38,
     "metadata": {},
     "output_type": "execute_result"
    }
   ],
   "source": [
    "liste_deneme = list(range(1,5))\n",
    "liste_deneme"
   ]
  },
  {
   "cell_type": "code",
   "execution_count": 39,
   "id": "b5e58ad9",
   "metadata": {},
   "outputs": [
    {
     "data": {
      "text/plain": [
       "[1, 4, 9, 16]"
      ]
     },
     "execution_count": 39,
     "metadata": {},
     "output_type": "execute_result"
    }
   ],
   "source": [
    "for index in range(len(liste_deneme)):\n",
    "    liste_deneme[index] = karesini_al(liste_deneme[index])\n",
    "liste_deneme    "
   ]
  },
  {
   "cell_type": "code",
   "execution_count": 42,
   "id": "1e200c1e",
   "metadata": {},
   "outputs": [
    {
     "data": {
      "text/plain": [
       "[1, 2, 3, 4, 5]"
      ]
     },
     "execution_count": 42,
     "metadata": {},
     "output_type": "execute_result"
    }
   ],
   "source": [
    "liste_deneme1 = [*range(1,6)]\n",
    "liste_deneme1"
   ]
  },
  {
   "cell_type": "code",
   "execution_count": 43,
   "id": "5fb28afc",
   "metadata": {},
   "outputs": [
    {
     "data": {
      "text/plain": [
       "[1, 4, 9, 16, 25]"
      ]
     },
     "execution_count": 43,
     "metadata": {},
     "output_type": "execute_result"
    }
   ],
   "source": [
    "liste_deneme1 = [*range(1,6)]\n",
    "list(map(karesini_al, liste_deneme1))"
   ]
  },
  {
   "cell_type": "code",
   "execution_count": 47,
   "id": "d74d35ff",
   "metadata": {},
   "outputs": [
    {
     "data": {
      "text/plain": [
       "6"
      ]
     },
     "execution_count": 47,
     "metadata": {},
     "output_type": "execute_result"
    }
   ],
   "source": [
    "def cift_sayilari_filtrele(x):\n",
    "    if x%2==0:\n",
    "        return(x)            #print komutu bozuldu ne yapicam bilmiyorum :D.\n",
    "    else: None\n",
    "\n",
    "cift_sayilari_filtrele(6)"
   ]
  },
  {
   "cell_type": "code",
   "execution_count": 49,
   "id": "e27c572a",
   "metadata": {},
   "outputs": [],
   "source": [
    "def cift_sayilari_filtrele(x):\n",
    "     return x if x%2==0 else None       #daha profosyonalce yazilis bicimi böyledir. "
   ]
  },
  {
   "cell_type": "code",
   "execution_count": 52,
   "id": "7f983190",
   "metadata": {},
   "outputs": [
    {
     "data": {
      "text/plain": [
       "8"
      ]
     },
     "execution_count": 52,
     "metadata": {},
     "output_type": "execute_result"
    }
   ],
   "source": [
    "cift_sayilari_filtrele(8)"
   ]
  },
  {
   "cell_type": "code",
   "execution_count": 55,
   "id": "43f20d32",
   "metadata": {},
   "outputs": [
    {
     "data": {
      "text/plain": [
       "[2, 4]"
      ]
     },
     "execution_count": 55,
     "metadata": {},
     "output_type": "execute_result"
    }
   ],
   "source": [
    "liste_deneme1 = [*range(1,6)]\n",
    "[*filter(cift_sayilari_filtrele, liste_deneme1)]     #filter i liste bicimine dönüstümemiz gerekir okunaklilik icin."
   ]
  },
  {
   "cell_type": "code",
   "execution_count": 58,
   "id": "74d1d96d",
   "metadata": {},
   "outputs": [],
   "source": [
    "def karesini_al(x):\n",
    "    return x**2"
   ]
  },
  {
   "cell_type": "code",
   "execution_count": 59,
   "id": "232fb3ed",
   "metadata": {},
   "outputs": [
    {
     "data": {
      "text/plain": [
       "[1, 4, 9, 16, 25]"
      ]
     },
     "execution_count": 59,
     "metadata": {},
     "output_type": "execute_result"
    }
   ],
   "source": [
    "liste_deneme1 = [*range(1,6)]\n",
    "list(map(lambda x : x**2 ,liste_deneme1))"
   ]
  },
  {
   "cell_type": "code",
   "execution_count": 63,
   "id": "ce59f5f5",
   "metadata": {},
   "outputs": [
    {
     "data": {
      "text/plain": [
       "[2, 4, 6]"
      ]
     },
     "execution_count": 63,
     "metadata": {},
     "output_type": "execute_result"
    }
   ],
   "source": [
    "sayilarss = [*range(1,7)]\n",
    "[*filter(lambda x: x if x%2==0 else None, sayilarss)]"
   ]
  },
  {
   "cell_type": "markdown",
   "id": "7275df10",
   "metadata": {},
   "source": [
    "# Kullanici Girdisi: input"
   ]
  },
  {
   "cell_type": "code",
   "execution_count": 64,
   "id": "4b928169",
   "metadata": {},
   "outputs": [
    {
     "name": "stdout",
     "output_type": "stream",
     "text": [
      "Bir sayi giriniz: 21\n"
     ]
    },
    {
     "data": {
      "text/plain": [
       "'21'"
      ]
     },
     "execution_count": 64,
     "metadata": {},
     "output_type": "execute_result"
    }
   ],
   "source": [
    "input('Bir sayi giriniz: ')"
   ]
  },
  {
   "cell_type": "code",
   "execution_count": 70,
   "id": "68a1ea84",
   "metadata": {},
   "outputs": [
    {
     "name": "stdout",
     "output_type": "stream",
     "text": [
      "Bir sayi giriniz: 20\n"
     ]
    },
    {
     "data": {
      "text/plain": [
       "str"
      ]
     },
     "execution_count": 70,
     "metadata": {},
     "output_type": "execute_result"
    }
   ],
   "source": [
    "Kullanici_girdisi = input('Bir sayi giriniz: ')    #input komutunun islenen verisi kesme isaretleri icerisinde oldugu icin girilen veri string tipindedir integer degildir\n",
    "type(Kullanici_girdisi)"
   ]
  },
  {
   "cell_type": "code",
   "execution_count": 69,
   "id": "6277f261",
   "metadata": {},
   "outputs": [
    {
     "name": "stdout",
     "output_type": "stream",
     "text": [
      "Bir sayi giriniz: 20\n"
     ]
    },
    {
     "data": {
      "text/plain": [
       "int"
      ]
     },
     "execution_count": 69,
     "metadata": {},
     "output_type": "execute_result"
    }
   ],
   "source": [
    "Kullanici_girdisi1 = input('Bir sayi giriniz: ') #görüldügü gibi ifade integer a dönüstürüldü.\n",
    "type(int(Kullanici_girdisi1))"
   ]
  },
  {
   "cell_type": "code",
   "execution_count": 82,
   "id": "b835f70f",
   "metadata": {},
   "outputs": [],
   "source": [
    "def uygulama1():\n",
    "    girdi = input('Bir sayi giriniz:')\n",
    "    islem = input('Verinin tek mi cift mi oldugunu sorgula:')\n",
    "             \n",
    "    if islem=='cift':\n",
    "        if int(girdi)%2==0:\n",
    "            return 'Evet bu bir cift sayidir.'\n",
    "        else:\n",
    "             return 'Hayir bu bir tek sayidir.'\n",
    "    elif islem=='tek':\n",
    "        if int(girdi)%2==1:\n",
    "            return 'Evet bu bir tek sayidir.'\n",
    "        else:\n",
    "             return 'Hayir bu bir cift sayidir.'\n",
    "            "
   ]
  },
  {
   "cell_type": "code",
   "execution_count": 83,
   "id": "d683eccd",
   "metadata": {},
   "outputs": [
    {
     "name": "stdout",
     "output_type": "stream",
     "text": [
      "Bir sayi giriniz:7\n",
      "Verinin tek mi cift mi oldugunu sorgula:tek\n"
     ]
    },
    {
     "data": {
      "text/plain": [
       "'Evet bu bir tek sayidir.'"
      ]
     },
     "execution_count": 83,
     "metadata": {},
     "output_type": "execute_result"
    }
   ],
   "source": [
    "uygulama1()"
   ]
  },
  {
   "cell_type": "code",
   "execution_count": 84,
   "id": "6ec5ad54",
   "metadata": {},
   "outputs": [
    {
     "name": "stdout",
     "output_type": "stream",
     "text": [
      "Bir sayi giriniz:8\n",
      "Verinin tek mi cift mi oldugunu sorgula:tek\n"
     ]
    },
    {
     "data": {
      "text/plain": [
       "'Hayir bu bir cift sayidir.'"
      ]
     },
     "execution_count": 84,
     "metadata": {},
     "output_type": "execute_result"
    }
   ],
   "source": [
    "uygulama1()"
   ]
  },
  {
   "cell_type": "code",
   "execution_count": 87,
   "id": "bfbdc243",
   "metadata": {},
   "outputs": [],
   "source": [
    "def sayi_girdisi_kontrol():\n",
    "    girdi = input('Bir sayi giriniz:')\n",
    "    \n",
    "    if girdi.isdigit():\n",
    "        return('Tebrikler bir sayi girdiniz!')\n",
    "    else:\n",
    "        return('Maalesef sayi tipi deger girmediniz.')\n",
    "        "
   ]
  },
  {
   "cell_type": "code",
   "execution_count": 90,
   "id": "ac3870d8",
   "metadata": {},
   "outputs": [
    {
     "name": "stdout",
     "output_type": "stream",
     "text": [
      "Bir sayi giriniz:a\n"
     ]
    },
    {
     "data": {
      "text/plain": [
       "'Maalesef sayi tipi deger girmediniz.'"
      ]
     },
     "execution_count": 90,
     "metadata": {},
     "output_type": "execute_result"
    }
   ],
   "source": [
    "sayi_girdisi_kontrol()"
   ]
  },
  {
   "cell_type": "code",
   "execution_count": 115,
   "id": "13a8f314",
   "metadata": {},
   "outputs": [],
   "source": [
    "def sayi_girdisi_dongu_kontrol():\n",
    "    girdi = input('Bir sayi giriniz:')\n",
    "        \n",
    "    while not girdi.isdigit():\n",
    "        return('Maalesef sayi tipi deger girmediniz.')\n",
    "        girdi=input('Bir sayi giriniz:')\n",
    "        \n",
    "    else:\n",
    "        return('Tebrikler bir sayi girdiniz!')\n",
    "\n",
    "#normalde bu kodun kullanici verisi sayi degeri girene kadar devam etmesi gerekir. Bi patlama var."
   ]
  },
  {
   "cell_type": "code",
   "execution_count": 117,
   "id": "4512884a",
   "metadata": {},
   "outputs": [
    {
     "name": "stdout",
     "output_type": "stream",
     "text": [
      "Bir sayi giriniz:b\n"
     ]
    },
    {
     "data": {
      "text/plain": [
       "'Maalesef sayi tipi deger girmediniz.'"
      ]
     },
     "execution_count": 117,
     "metadata": {},
     "output_type": "execute_result"
    }
   ],
   "source": [
    "sayi_girdisi_dongu_kontrol()"
   ]
  },
  {
   "cell_type": "code",
   "execution_count": 130,
   "id": "ea8bebc1",
   "metadata": {},
   "outputs": [],
   "source": [
    "def eposta_kontrol():\n",
    "    \n",
    "    girdi = input('Gecerli bir eposta adresi girdiniz.')\n",
    "    \n",
    "    while not (('.' in girdi) and ('@' in girdi)):\n",
    "        return('Üzgünüm!')\n",
    "        girdi = input('Gecerli bir eposta adresi girdiniz.')\n",
    "\n",
    "    else:\n",
    "        return('Tebrikler! E-posta adresiniz ile basariyla giris yaptiniz.')\n",
    "    \n",
    "#kod ayni olmasina ragmen yine ayni sikinti olustu."
   ]
  },
  {
   "cell_type": "code",
   "execution_count": 132,
   "id": "f1ee8897",
   "metadata": {},
   "outputs": [
    {
     "name": "stdout",
     "output_type": "stream",
     "text": [
      "Gecerli bir eposta adresi girdiniz.komalpren@gmail.com\n"
     ]
    },
    {
     "data": {
      "text/plain": [
       "'Tebrikler! E-posta adresiniz ile basariyla giris yaptiniz.'"
      ]
     },
     "execution_count": 132,
     "metadata": {},
     "output_type": "execute_result"
    }
   ],
   "source": [
    "eposta_kontrol()"
   ]
  }
 ],
 "metadata": {
  "kernelspec": {
   "display_name": "Python 3 (ipykernel)",
   "language": "python",
   "name": "python3"
  },
  "language_info": {
   "codemirror_mode": {
    "name": "ipython",
    "version": 3
   },
   "file_extension": ".py",
   "mimetype": "text/x-python",
   "name": "python",
   "nbconvert_exporter": "python",
   "pygments_lexer": "ipython3",
   "version": "3.11.3"
  }
 },
 "nbformat": 4,
 "nbformat_minor": 5
}
